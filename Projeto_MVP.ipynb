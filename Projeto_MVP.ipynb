{
  "cells": [
    {
      "cell_type": "markdown",
      "metadata": {
        "id": "view-in-github",
        "colab_type": "text"
      },
      "source": [
        "<a href=\"https://colab.research.google.com/github/PedroHenrique0214/machine_learning_stroke/blob/main/Projeto_MVP.ipynb\" target=\"_parent\"><img src=\"https://colab.research.google.com/assets/colab-badge.svg\" alt=\"Open In Colab\"/></a>"
      ]
    },
    {
      "cell_type": "markdown",
      "source": [
        "O projeto em questão aborda um conjunto de dados que se concentra em pacientes, com o objetivo de prever a ocorrência de AVC (Acidente Vascular Cerebral). O conjunto de dados consiste em 10 colunas que contêm informações sobre a saúde e o estilo de vida dos pacientes. A tarefa principal é utilizar modelos de aprendizado supervisionado para prever, matematicamente, a probabilidade de um paciente sofrer um AVC.\n",
        "\n",
        "O foco principal deste projeto é maximizar o resultado do recall do nosso modelo. Isso é crucial para minimizar o número de falsos negativos, uma vez que uma predição errônea, nesse contexto, pode ter implicações significativas para a saúde do paciente.\n",
        "\n",
        "Além disso, uma análise mais aprofundada dos dados pode fornecer insights sobre as principais causas de AVC, conforme identificadas em nosso conjunto de dados. Essas informações são valiosas para os profissionais de saúde, pois podem orientar estratégias de tratamento e prevenção mais eficazes para os pacientes."
      ],
      "metadata": {
        "id": "rXTB09TiymMw"
      }
    },
    {
      "cell_type": "code",
      "execution_count": 40,
      "metadata": {
        "id": "7B5h5uuEbl53"
      },
      "outputs": [],
      "source": [
        "# Configuração de warnings\n",
        "import warnings\n",
        "warnings.filterwarnings(\"ignore\")"
      ]
    },
    {
      "cell_type": "code",
      "execution_count": 41,
      "metadata": {
        "id": "Vas_WyAHbvt2"
      },
      "outputs": [],
      "source": [
        "# Importando as principais bibliotecas para tratamento e visualização dos dados\n",
        "import pandas as pd\n",
        "import numpy as np\n",
        "import matplotlib.pyplot as plt\n",
        "import seaborn as sns\n",
        "\n",
        "# Importando os modelos de machine learning\n",
        "from sklearn.linear_model import LogisticRegression\n",
        "from sklearn.tree import DecisionTreeClassifier\n",
        "from sklearn.neighbors import KNeighborsClassifier\n",
        "from sklearn.naive_bayes import GaussianNB\n",
        "from sklearn.svm import SVC\n",
        "from sklearn.ensemble import BaggingClassifier\n",
        "from sklearn.ensemble import RandomForestClassifier\n",
        "from sklearn.ensemble import ExtraTreesClassifier\n",
        "from sklearn.ensemble import VotingClassifier\n",
        "from sklearn.ensemble import AdaBoostClassifier\n",
        "from sklearn.ensemble import GradientBoostingClassifier\n",
        "from sklearn.feature_selection import SelectKBest # Para a Seleção Univariada\n",
        "from sklearn.feature_selection import f_classif # Para o teste ANOVA da Seleção Univariada\n",
        "from sklearn.feature_selection import RFE # Para a Eliminação Recursiva de Atributos\n",
        "from sklearn.linear_model import LogisticRegression # Regressão Logística, para a Eliminação Recursiva de Atributos\n",
        "from sklearn.ensemble import ExtraTreesClassifier # ExtraTrees, para a Importância de Atributos\n",
        "from sklearn.preprocessing import StandardScaler # Para realizar a padronização dos dados\n",
        "from sklearn.preprocessing import MinMaxScaler # Para realizar a normalização dos dados\n",
        "from sklearn.model_selection import train_test_split # Para separar nosso modelo em treino e teste\n",
        "from sklearn.model_selection import KFold # Para selecionar o número de folds\n",
        "from sklearn.model_selection import cross_val_score # Para realizar a validação cruzada dos dados\n",
        "from sklearn.model_selection import GridSearchCV # Para fazer a hiperparametrização dos dados\n",
        "from sklearn.metrics import accuracy_score # Para checar a acurácia dos dados\n",
        "from sklearn.pipeline import Pipeline, make_pipeline # Para fazer o pipeline na construção do modelo\n",
        "\n",
        "%matplotlib inline"
      ]
    },
    {
      "cell_type": "code",
      "execution_count": 42,
      "metadata": {
        "colab": {
          "base_uri": "https://localhost:8080/",
          "height": 206
        },
        "id": "97GySD62b2Ni",
        "outputId": "54c1a395-5501-467c-c3c5-30769b5b54aa"
      },
      "outputs": [
        {
          "output_type": "execute_result",
          "data": {
            "text/plain": [
              "   sex   age  hypertension  heart_disease  ever_married  work_type  \\\n",
              "0  1.0  63.0             0              1             1          4   \n",
              "1  1.0  42.0             0              1             1          4   \n",
              "2  0.0  61.0             0              0             1          4   \n",
              "3  1.0  41.0             1              0             1          3   \n",
              "4  1.0  85.0             0              0             1          4   \n",
              "\n",
              "   Residence_type  avg_glucose_level   bmi  smoking_status  stroke  \n",
              "0               1             228.69  36.6               1       1  \n",
              "1               0             105.92  32.5               0       1  \n",
              "2               1             171.23  34.4               1       1  \n",
              "3               0             174.12  24.0               0       1  \n",
              "4               1             186.21  29.0               1       1  "
            ],
            "text/html": [
              "\n",
              "  <div id=\"df-994c4f92-4097-4b88-bc30-90668e51506c\" class=\"colab-df-container\">\n",
              "    <div>\n",
              "<style scoped>\n",
              "    .dataframe tbody tr th:only-of-type {\n",
              "        vertical-align: middle;\n",
              "    }\n",
              "\n",
              "    .dataframe tbody tr th {\n",
              "        vertical-align: top;\n",
              "    }\n",
              "\n",
              "    .dataframe thead th {\n",
              "        text-align: right;\n",
              "    }\n",
              "</style>\n",
              "<table border=\"1\" class=\"dataframe\">\n",
              "  <thead>\n",
              "    <tr style=\"text-align: right;\">\n",
              "      <th></th>\n",
              "      <th>sex</th>\n",
              "      <th>age</th>\n",
              "      <th>hypertension</th>\n",
              "      <th>heart_disease</th>\n",
              "      <th>ever_married</th>\n",
              "      <th>work_type</th>\n",
              "      <th>Residence_type</th>\n",
              "      <th>avg_glucose_level</th>\n",
              "      <th>bmi</th>\n",
              "      <th>smoking_status</th>\n",
              "      <th>stroke</th>\n",
              "    </tr>\n",
              "  </thead>\n",
              "  <tbody>\n",
              "    <tr>\n",
              "      <th>0</th>\n",
              "      <td>1.0</td>\n",
              "      <td>63.0</td>\n",
              "      <td>0</td>\n",
              "      <td>1</td>\n",
              "      <td>1</td>\n",
              "      <td>4</td>\n",
              "      <td>1</td>\n",
              "      <td>228.69</td>\n",
              "      <td>36.6</td>\n",
              "      <td>1</td>\n",
              "      <td>1</td>\n",
              "    </tr>\n",
              "    <tr>\n",
              "      <th>1</th>\n",
              "      <td>1.0</td>\n",
              "      <td>42.0</td>\n",
              "      <td>0</td>\n",
              "      <td>1</td>\n",
              "      <td>1</td>\n",
              "      <td>4</td>\n",
              "      <td>0</td>\n",
              "      <td>105.92</td>\n",
              "      <td>32.5</td>\n",
              "      <td>0</td>\n",
              "      <td>1</td>\n",
              "    </tr>\n",
              "    <tr>\n",
              "      <th>2</th>\n",
              "      <td>0.0</td>\n",
              "      <td>61.0</td>\n",
              "      <td>0</td>\n",
              "      <td>0</td>\n",
              "      <td>1</td>\n",
              "      <td>4</td>\n",
              "      <td>1</td>\n",
              "      <td>171.23</td>\n",
              "      <td>34.4</td>\n",
              "      <td>1</td>\n",
              "      <td>1</td>\n",
              "    </tr>\n",
              "    <tr>\n",
              "      <th>3</th>\n",
              "      <td>1.0</td>\n",
              "      <td>41.0</td>\n",
              "      <td>1</td>\n",
              "      <td>0</td>\n",
              "      <td>1</td>\n",
              "      <td>3</td>\n",
              "      <td>0</td>\n",
              "      <td>174.12</td>\n",
              "      <td>24.0</td>\n",
              "      <td>0</td>\n",
              "      <td>1</td>\n",
              "    </tr>\n",
              "    <tr>\n",
              "      <th>4</th>\n",
              "      <td>1.0</td>\n",
              "      <td>85.0</td>\n",
              "      <td>0</td>\n",
              "      <td>0</td>\n",
              "      <td>1</td>\n",
              "      <td>4</td>\n",
              "      <td>1</td>\n",
              "      <td>186.21</td>\n",
              "      <td>29.0</td>\n",
              "      <td>1</td>\n",
              "      <td>1</td>\n",
              "    </tr>\n",
              "  </tbody>\n",
              "</table>\n",
              "</div>\n",
              "    <div class=\"colab-df-buttons\">\n",
              "\n",
              "  <div class=\"colab-df-container\">\n",
              "    <button class=\"colab-df-convert\" onclick=\"convertToInteractive('df-994c4f92-4097-4b88-bc30-90668e51506c')\"\n",
              "            title=\"Convert this dataframe to an interactive table.\"\n",
              "            style=\"display:none;\">\n",
              "\n",
              "  <svg xmlns=\"http://www.w3.org/2000/svg\" height=\"24px\" viewBox=\"0 -960 960 960\">\n",
              "    <path d=\"M120-120v-720h720v720H120Zm60-500h600v-160H180v160Zm220 220h160v-160H400v160Zm0 220h160v-160H400v160ZM180-400h160v-160H180v160Zm440 0h160v-160H620v160ZM180-180h160v-160H180v160Zm440 0h160v-160H620v160Z\"/>\n",
              "  </svg>\n",
              "    </button>\n",
              "\n",
              "  <style>\n",
              "    .colab-df-container {\n",
              "      display:flex;\n",
              "      gap: 12px;\n",
              "    }\n",
              "\n",
              "    .colab-df-convert {\n",
              "      background-color: #E8F0FE;\n",
              "      border: none;\n",
              "      border-radius: 50%;\n",
              "      cursor: pointer;\n",
              "      display: none;\n",
              "      fill: #1967D2;\n",
              "      height: 32px;\n",
              "      padding: 0 0 0 0;\n",
              "      width: 32px;\n",
              "    }\n",
              "\n",
              "    .colab-df-convert:hover {\n",
              "      background-color: #E2EBFA;\n",
              "      box-shadow: 0px 1px 2px rgba(60, 64, 67, 0.3), 0px 1px 3px 1px rgba(60, 64, 67, 0.15);\n",
              "      fill: #174EA6;\n",
              "    }\n",
              "\n",
              "    .colab-df-buttons div {\n",
              "      margin-bottom: 4px;\n",
              "    }\n",
              "\n",
              "    [theme=dark] .colab-df-convert {\n",
              "      background-color: #3B4455;\n",
              "      fill: #D2E3FC;\n",
              "    }\n",
              "\n",
              "    [theme=dark] .colab-df-convert:hover {\n",
              "      background-color: #434B5C;\n",
              "      box-shadow: 0px 1px 3px 1px rgba(0, 0, 0, 0.15);\n",
              "      filter: drop-shadow(0px 1px 2px rgba(0, 0, 0, 0.3));\n",
              "      fill: #FFFFFF;\n",
              "    }\n",
              "  </style>\n",
              "\n",
              "    <script>\n",
              "      const buttonEl =\n",
              "        document.querySelector('#df-994c4f92-4097-4b88-bc30-90668e51506c button.colab-df-convert');\n",
              "      buttonEl.style.display =\n",
              "        google.colab.kernel.accessAllowed ? 'block' : 'none';\n",
              "\n",
              "      async function convertToInteractive(key) {\n",
              "        const element = document.querySelector('#df-994c4f92-4097-4b88-bc30-90668e51506c');\n",
              "        const dataTable =\n",
              "          await google.colab.kernel.invokeFunction('convertToInteractive',\n",
              "                                                    [key], {});\n",
              "        if (!dataTable) return;\n",
              "\n",
              "        const docLinkHtml = 'Like what you see? Visit the ' +\n",
              "          '<a target=\"_blank\" href=https://colab.research.google.com/notebooks/data_table.ipynb>data table notebook</a>'\n",
              "          + ' to learn more about interactive tables.';\n",
              "        element.innerHTML = '';\n",
              "        dataTable['output_type'] = 'display_data';\n",
              "        await google.colab.output.renderOutput(dataTable, element);\n",
              "        const docLink = document.createElement('div');\n",
              "        docLink.innerHTML = docLinkHtml;\n",
              "        element.appendChild(docLink);\n",
              "      }\n",
              "    </script>\n",
              "  </div>\n",
              "\n",
              "\n",
              "<div id=\"df-297000d5-5aab-4e01-8752-0785bf16acb7\">\n",
              "  <button class=\"colab-df-quickchart\" onclick=\"quickchart('df-297000d5-5aab-4e01-8752-0785bf16acb7')\"\n",
              "            title=\"Suggest charts\"\n",
              "            style=\"display:none;\">\n",
              "\n",
              "<svg xmlns=\"http://www.w3.org/2000/svg\" height=\"24px\"viewBox=\"0 0 24 24\"\n",
              "     width=\"24px\">\n",
              "    <g>\n",
              "        <path d=\"M19 3H5c-1.1 0-2 .9-2 2v14c0 1.1.9 2 2 2h14c1.1 0 2-.9 2-2V5c0-1.1-.9-2-2-2zM9 17H7v-7h2v7zm4 0h-2V7h2v10zm4 0h-2v-4h2v4z\"/>\n",
              "    </g>\n",
              "</svg>\n",
              "  </button>\n",
              "\n",
              "<style>\n",
              "  .colab-df-quickchart {\n",
              "      --bg-color: #E8F0FE;\n",
              "      --fill-color: #1967D2;\n",
              "      --hover-bg-color: #E2EBFA;\n",
              "      --hover-fill-color: #174EA6;\n",
              "      --disabled-fill-color: #AAA;\n",
              "      --disabled-bg-color: #DDD;\n",
              "  }\n",
              "\n",
              "  [theme=dark] .colab-df-quickchart {\n",
              "      --bg-color: #3B4455;\n",
              "      --fill-color: #D2E3FC;\n",
              "      --hover-bg-color: #434B5C;\n",
              "      --hover-fill-color: #FFFFFF;\n",
              "      --disabled-bg-color: #3B4455;\n",
              "      --disabled-fill-color: #666;\n",
              "  }\n",
              "\n",
              "  .colab-df-quickchart {\n",
              "    background-color: var(--bg-color);\n",
              "    border: none;\n",
              "    border-radius: 50%;\n",
              "    cursor: pointer;\n",
              "    display: none;\n",
              "    fill: var(--fill-color);\n",
              "    height: 32px;\n",
              "    padding: 0;\n",
              "    width: 32px;\n",
              "  }\n",
              "\n",
              "  .colab-df-quickchart:hover {\n",
              "    background-color: var(--hover-bg-color);\n",
              "    box-shadow: 0 1px 2px rgba(60, 64, 67, 0.3), 0 1px 3px 1px rgba(60, 64, 67, 0.15);\n",
              "    fill: var(--button-hover-fill-color);\n",
              "  }\n",
              "\n",
              "  .colab-df-quickchart-complete:disabled,\n",
              "  .colab-df-quickchart-complete:disabled:hover {\n",
              "    background-color: var(--disabled-bg-color);\n",
              "    fill: var(--disabled-fill-color);\n",
              "    box-shadow: none;\n",
              "  }\n",
              "\n",
              "  .colab-df-spinner {\n",
              "    border: 2px solid var(--fill-color);\n",
              "    border-color: transparent;\n",
              "    border-bottom-color: var(--fill-color);\n",
              "    animation:\n",
              "      spin 1s steps(1) infinite;\n",
              "  }\n",
              "\n",
              "  @keyframes spin {\n",
              "    0% {\n",
              "      border-color: transparent;\n",
              "      border-bottom-color: var(--fill-color);\n",
              "      border-left-color: var(--fill-color);\n",
              "    }\n",
              "    20% {\n",
              "      border-color: transparent;\n",
              "      border-left-color: var(--fill-color);\n",
              "      border-top-color: var(--fill-color);\n",
              "    }\n",
              "    30% {\n",
              "      border-color: transparent;\n",
              "      border-left-color: var(--fill-color);\n",
              "      border-top-color: var(--fill-color);\n",
              "      border-right-color: var(--fill-color);\n",
              "    }\n",
              "    40% {\n",
              "      border-color: transparent;\n",
              "      border-right-color: var(--fill-color);\n",
              "      border-top-color: var(--fill-color);\n",
              "    }\n",
              "    60% {\n",
              "      border-color: transparent;\n",
              "      border-right-color: var(--fill-color);\n",
              "    }\n",
              "    80% {\n",
              "      border-color: transparent;\n",
              "      border-right-color: var(--fill-color);\n",
              "      border-bottom-color: var(--fill-color);\n",
              "    }\n",
              "    90% {\n",
              "      border-color: transparent;\n",
              "      border-bottom-color: var(--fill-color);\n",
              "    }\n",
              "  }\n",
              "</style>\n",
              "\n",
              "  <script>\n",
              "    async function quickchart(key) {\n",
              "      const quickchartButtonEl =\n",
              "        document.querySelector('#' + key + ' button');\n",
              "      quickchartButtonEl.disabled = true;  // To prevent multiple clicks.\n",
              "      quickchartButtonEl.classList.add('colab-df-spinner');\n",
              "      try {\n",
              "        const charts = await google.colab.kernel.invokeFunction(\n",
              "            'suggestCharts', [key], {});\n",
              "      } catch (error) {\n",
              "        console.error('Error during call to suggestCharts:', error);\n",
              "      }\n",
              "      quickchartButtonEl.classList.remove('colab-df-spinner');\n",
              "      quickchartButtonEl.classList.add('colab-df-quickchart-complete');\n",
              "    }\n",
              "    (() => {\n",
              "      let quickchartButtonEl =\n",
              "        document.querySelector('#df-297000d5-5aab-4e01-8752-0785bf16acb7 button');\n",
              "      quickchartButtonEl.style.display =\n",
              "        google.colab.kernel.accessAllowed ? 'block' : 'none';\n",
              "    })();\n",
              "  </script>\n",
              "</div>\n",
              "\n",
              "    </div>\n",
              "  </div>\n"
            ],
            "application/vnd.google.colaboratory.intrinsic+json": {
              "type": "dataframe",
              "variable_name": "avc",
              "summary": "{\n  \"name\": \"avc\",\n  \"rows\": 40910,\n  \"fields\": [\n    {\n      \"column\": \"sex\",\n      \"properties\": {\n        \"dtype\": \"number\",\n        \"std\": 0.4969539446755928,\n        \"min\": 0.0,\n        \"max\": 1.0,\n        \"num_unique_values\": 2,\n        \"samples\": [\n          0.0,\n          1.0\n        ],\n        \"semantic_type\": \"\",\n        \"description\": \"\"\n      }\n    },\n    {\n      \"column\": \"age\",\n      \"properties\": {\n        \"dtype\": \"number\",\n        \"std\": 21.62396928380311,\n        \"min\": -9.0,\n        \"max\": 103.0,\n        \"num_unique_values\": 111,\n        \"samples\": [\n          92.0,\n          26.0\n        ],\n        \"semantic_type\": \"\",\n        \"description\": \"\"\n      }\n    },\n    {\n      \"column\": \"hypertension\",\n      \"properties\": {\n        \"dtype\": \"number\",\n        \"std\": 0,\n        \"min\": 0,\n        \"max\": 1,\n        \"num_unique_values\": 2,\n        \"samples\": [\n          1,\n          0\n        ],\n        \"semantic_type\": \"\",\n        \"description\": \"\"\n      }\n    },\n    {\n      \"column\": \"heart_disease\",\n      \"properties\": {\n        \"dtype\": \"number\",\n        \"std\": 0,\n        \"min\": 0,\n        \"max\": 1,\n        \"num_unique_values\": 2,\n        \"samples\": [\n          0,\n          1\n        ],\n        \"semantic_type\": \"\",\n        \"description\": \"\"\n      }\n    },\n    {\n      \"column\": \"ever_married\",\n      \"properties\": {\n        \"dtype\": \"number\",\n        \"std\": 0,\n        \"min\": 0,\n        \"max\": 1,\n        \"num_unique_values\": 2,\n        \"samples\": [\n          0,\n          1\n        ],\n        \"semantic_type\": \"\",\n        \"description\": \"\"\n      }\n    },\n    {\n      \"column\": \"work_type\",\n      \"properties\": {\n        \"dtype\": \"number\",\n        \"std\": 0,\n        \"min\": 0,\n        \"max\": 4,\n        \"num_unique_values\": 5,\n        \"samples\": [\n          3,\n          0\n        ],\n        \"semantic_type\": \"\",\n        \"description\": \"\"\n      }\n    },\n    {\n      \"column\": \"Residence_type\",\n      \"properties\": {\n        \"dtype\": \"number\",\n        \"std\": 0,\n        \"min\": 0,\n        \"max\": 1,\n        \"num_unique_values\": 2,\n        \"samples\": [\n          0,\n          1\n        ],\n        \"semantic_type\": \"\",\n        \"description\": \"\"\n      }\n    },\n    {\n      \"column\": \"avg_glucose_level\",\n      \"properties\": {\n        \"dtype\": \"number\",\n        \"std\": 57.561531200354096,\n        \"min\": 55.12,\n        \"max\": 271.74,\n        \"num_unique_values\": 2903,\n        \"samples\": [\n          200.62,\n          68.98\n        ],\n        \"semantic_type\": \"\",\n        \"description\": \"\"\n      }\n    },\n    {\n      \"column\": \"bmi\",\n      \"properties\": {\n        \"dtype\": \"number\",\n        \"std\": 6.8350722960865316,\n        \"min\": 11.5,\n        \"max\": 92.0,\n        \"num_unique_values\": 370,\n        \"samples\": [\n          51.9,\n          38.6\n        ],\n        \"semantic_type\": \"\",\n        \"description\": \"\"\n      }\n    },\n    {\n      \"column\": \"smoking_status\",\n      \"properties\": {\n        \"dtype\": \"number\",\n        \"std\": 0,\n        \"min\": 0,\n        \"max\": 1,\n        \"num_unique_values\": 2,\n        \"samples\": [\n          0,\n          1\n        ],\n        \"semantic_type\": \"\",\n        \"description\": \"\"\n      }\n    },\n    {\n      \"column\": \"stroke\",\n      \"properties\": {\n        \"dtype\": \"number\",\n        \"std\": 0,\n        \"min\": 0,\n        \"max\": 1,\n        \"num_unique_values\": 2,\n        \"samples\": [\n          0,\n          1\n        ],\n        \"semantic_type\": \"\",\n        \"description\": \"\"\n      }\n    }\n  ]\n}"
            }
          },
          "metadata": {},
          "execution_count": 42
        }
      ],
      "source": [
        "# Importando o dataset\n",
        "path = \"https://github.com/PedroHenrique0214/machine_learning_stroke/raw/main/stroke_data.csv\"\n",
        "avc = pd.read_csv(path)\n",
        "\n",
        "avc.head()"
      ]
    },
    {
      "cell_type": "markdown",
      "metadata": {
        "id": "wOw6AAt_cVOp"
      },
      "source": [
        "# A seguintes informações podem ser retiradas do dataset:\n",
        "sex: Gênero do paciente (1: homem; 0: mulher)\n",
        "\n",
        "age: Idade do paciente (em anos)\n",
        "\n",
        "hypertension: Paciente tem hipertensão (1), ou não tem(0)\n",
        "\n",
        "heart_disease: Paciente já teve problemas no coração(1), ou não (0)\n",
        "\n",
        "ever_married: Paciente casado (1) ou não (0)\n",
        "\n",
        "work_type: Tipo de trabalho: 0 - Nunca Trabalhou, 1 - Criança, 2 - Emprego governamental, 3 - Conta própria, 4 - Privado\n",
        "\n",
        "Residence_type: Área do paciente: 1 - Urbano, 0 - Rural\n",
        "\n",
        "avg_glucose_level: Nível médio de açucar no sangue\n",
        "\n",
        "bmi: Índece de massa corporal\n",
        "\n",
        "smoking_status: 1 - fumante, 0 - nunca fumou\n",
        "\n",
        "stroke: Paciente teve um avc (1), ou não (0)"
      ]
    },
    {
      "cell_type": "code",
      "execution_count": 43,
      "metadata": {
        "colab": {
          "base_uri": "https://localhost:8080/"
        },
        "id": "MJkQrRc-cIqt",
        "outputId": "e6023463-b1d3-4572-a8a2-5386b0cc62e0"
      },
      "outputs": [
        {
          "output_type": "stream",
          "name": "stdout",
          "text": [
            "<class 'pandas.core.frame.DataFrame'>\n",
            "RangeIndex: 40910 entries, 0 to 40909\n",
            "Data columns (total 11 columns):\n",
            " #   Column             Non-Null Count  Dtype  \n",
            "---  ------             --------------  -----  \n",
            " 0   sex                40907 non-null  float64\n",
            " 1   age                40910 non-null  float64\n",
            " 2   hypertension       40910 non-null  int64  \n",
            " 3   heart_disease      40910 non-null  int64  \n",
            " 4   ever_married       40910 non-null  int64  \n",
            " 5   work_type          40910 non-null  int64  \n",
            " 6   Residence_type     40910 non-null  int64  \n",
            " 7   avg_glucose_level  40910 non-null  float64\n",
            " 8   bmi                40910 non-null  float64\n",
            " 9   smoking_status     40910 non-null  int64  \n",
            " 10  stroke             40910 non-null  int64  \n",
            "dtypes: float64(4), int64(7)\n",
            "memory usage: 3.4 MB\n"
          ]
        }
      ],
      "source": [
        "# Olhando as informações dos dados\n",
        "avc.info()"
      ]
    },
    {
      "cell_type": "markdown",
      "metadata": {
        "id": "5nyOiidNdqSk"
      },
      "source": [
        "- Faltando 3 dados sobre o sexo do paciente."
      ]
    },
    {
      "cell_type": "code",
      "execution_count": 44,
      "metadata": {
        "colab": {
          "base_uri": "https://localhost:8080/",
          "height": 394
        },
        "id": "g-0YCUpdevyl",
        "outputId": "211f1105-08b3-4f83-9fed-f325be846f8c"
      },
      "outputs": [
        {
          "output_type": "execute_result",
          "data": {
            "text/plain": [
              "                     count        mean        std    min    25%    50%  \\\n",
              "sex                40907.0    0.555162   0.496954   0.00   0.00   1.00   \n",
              "age                40910.0   51.327255  21.623969  -9.00  35.00  52.00   \n",
              "hypertension       40910.0    0.213835   0.410017   0.00   0.00   0.00   \n",
              "heart_disease      40910.0    0.127719   0.333781   0.00   0.00   0.00   \n",
              "ever_married       40910.0    0.821340   0.383072   0.00   1.00   1.00   \n",
              "work_type          40910.0    3.461134   0.780919   0.00   3.00   4.00   \n",
              "Residence_type     40910.0    0.514886   0.499784   0.00   0.00   1.00   \n",
              "avg_glucose_level  40910.0  122.075901  57.561531  55.12  78.75  97.92   \n",
              "bmi                40910.0   30.406355   6.835072  11.50  25.90  29.40   \n",
              "smoking_status     40910.0    0.488609   0.499876   0.00   0.00   0.00   \n",
              "stroke             40910.0    0.500122   0.500006   0.00   0.00   1.00   \n",
              "\n",
              "                      75%     max  \n",
              "sex                  1.00    1.00  \n",
              "age                 68.00  103.00  \n",
              "hypertension         0.00    1.00  \n",
              "heart_disease        0.00    1.00  \n",
              "ever_married         1.00    1.00  \n",
              "work_type            4.00    4.00  \n",
              "Residence_type       1.00    1.00  \n",
              "avg_glucose_level  167.59  271.74  \n",
              "bmi                 34.10   92.00  \n",
              "smoking_status       1.00    1.00  \n",
              "stroke               1.00    1.00  "
            ],
            "text/html": [
              "\n",
              "  <div id=\"df-3860ed3d-701f-4d89-a129-3e08418b4b37\" class=\"colab-df-container\">\n",
              "    <div>\n",
              "<style scoped>\n",
              "    .dataframe tbody tr th:only-of-type {\n",
              "        vertical-align: middle;\n",
              "    }\n",
              "\n",
              "    .dataframe tbody tr th {\n",
              "        vertical-align: top;\n",
              "    }\n",
              "\n",
              "    .dataframe thead th {\n",
              "        text-align: right;\n",
              "    }\n",
              "</style>\n",
              "<table border=\"1\" class=\"dataframe\">\n",
              "  <thead>\n",
              "    <tr style=\"text-align: right;\">\n",
              "      <th></th>\n",
              "      <th>count</th>\n",
              "      <th>mean</th>\n",
              "      <th>std</th>\n",
              "      <th>min</th>\n",
              "      <th>25%</th>\n",
              "      <th>50%</th>\n",
              "      <th>75%</th>\n",
              "      <th>max</th>\n",
              "    </tr>\n",
              "  </thead>\n",
              "  <tbody>\n",
              "    <tr>\n",
              "      <th>sex</th>\n",
              "      <td>40907.0</td>\n",
              "      <td>0.555162</td>\n",
              "      <td>0.496954</td>\n",
              "      <td>0.00</td>\n",
              "      <td>0.00</td>\n",
              "      <td>1.00</td>\n",
              "      <td>1.00</td>\n",
              "      <td>1.00</td>\n",
              "    </tr>\n",
              "    <tr>\n",
              "      <th>age</th>\n",
              "      <td>40910.0</td>\n",
              "      <td>51.327255</td>\n",
              "      <td>21.623969</td>\n",
              "      <td>-9.00</td>\n",
              "      <td>35.00</td>\n",
              "      <td>52.00</td>\n",
              "      <td>68.00</td>\n",
              "      <td>103.00</td>\n",
              "    </tr>\n",
              "    <tr>\n",
              "      <th>hypertension</th>\n",
              "      <td>40910.0</td>\n",
              "      <td>0.213835</td>\n",
              "      <td>0.410017</td>\n",
              "      <td>0.00</td>\n",
              "      <td>0.00</td>\n",
              "      <td>0.00</td>\n",
              "      <td>0.00</td>\n",
              "      <td>1.00</td>\n",
              "    </tr>\n",
              "    <tr>\n",
              "      <th>heart_disease</th>\n",
              "      <td>40910.0</td>\n",
              "      <td>0.127719</td>\n",
              "      <td>0.333781</td>\n",
              "      <td>0.00</td>\n",
              "      <td>0.00</td>\n",
              "      <td>0.00</td>\n",
              "      <td>0.00</td>\n",
              "      <td>1.00</td>\n",
              "    </tr>\n",
              "    <tr>\n",
              "      <th>ever_married</th>\n",
              "      <td>40910.0</td>\n",
              "      <td>0.821340</td>\n",
              "      <td>0.383072</td>\n",
              "      <td>0.00</td>\n",
              "      <td>1.00</td>\n",
              "      <td>1.00</td>\n",
              "      <td>1.00</td>\n",
              "      <td>1.00</td>\n",
              "    </tr>\n",
              "    <tr>\n",
              "      <th>work_type</th>\n",
              "      <td>40910.0</td>\n",
              "      <td>3.461134</td>\n",
              "      <td>0.780919</td>\n",
              "      <td>0.00</td>\n",
              "      <td>3.00</td>\n",
              "      <td>4.00</td>\n",
              "      <td>4.00</td>\n",
              "      <td>4.00</td>\n",
              "    </tr>\n",
              "    <tr>\n",
              "      <th>Residence_type</th>\n",
              "      <td>40910.0</td>\n",
              "      <td>0.514886</td>\n",
              "      <td>0.499784</td>\n",
              "      <td>0.00</td>\n",
              "      <td>0.00</td>\n",
              "      <td>1.00</td>\n",
              "      <td>1.00</td>\n",
              "      <td>1.00</td>\n",
              "    </tr>\n",
              "    <tr>\n",
              "      <th>avg_glucose_level</th>\n",
              "      <td>40910.0</td>\n",
              "      <td>122.075901</td>\n",
              "      <td>57.561531</td>\n",
              "      <td>55.12</td>\n",
              "      <td>78.75</td>\n",
              "      <td>97.92</td>\n",
              "      <td>167.59</td>\n",
              "      <td>271.74</td>\n",
              "    </tr>\n",
              "    <tr>\n",
              "      <th>bmi</th>\n",
              "      <td>40910.0</td>\n",
              "      <td>30.406355</td>\n",
              "      <td>6.835072</td>\n",
              "      <td>11.50</td>\n",
              "      <td>25.90</td>\n",
              "      <td>29.40</td>\n",
              "      <td>34.10</td>\n",
              "      <td>92.00</td>\n",
              "    </tr>\n",
              "    <tr>\n",
              "      <th>smoking_status</th>\n",
              "      <td>40910.0</td>\n",
              "      <td>0.488609</td>\n",
              "      <td>0.499876</td>\n",
              "      <td>0.00</td>\n",
              "      <td>0.00</td>\n",
              "      <td>0.00</td>\n",
              "      <td>1.00</td>\n",
              "      <td>1.00</td>\n",
              "    </tr>\n",
              "    <tr>\n",
              "      <th>stroke</th>\n",
              "      <td>40910.0</td>\n",
              "      <td>0.500122</td>\n",
              "      <td>0.500006</td>\n",
              "      <td>0.00</td>\n",
              "      <td>0.00</td>\n",
              "      <td>1.00</td>\n",
              "      <td>1.00</td>\n",
              "      <td>1.00</td>\n",
              "    </tr>\n",
              "  </tbody>\n",
              "</table>\n",
              "</div>\n",
              "    <div class=\"colab-df-buttons\">\n",
              "\n",
              "  <div class=\"colab-df-container\">\n",
              "    <button class=\"colab-df-convert\" onclick=\"convertToInteractive('df-3860ed3d-701f-4d89-a129-3e08418b4b37')\"\n",
              "            title=\"Convert this dataframe to an interactive table.\"\n",
              "            style=\"display:none;\">\n",
              "\n",
              "  <svg xmlns=\"http://www.w3.org/2000/svg\" height=\"24px\" viewBox=\"0 -960 960 960\">\n",
              "    <path d=\"M120-120v-720h720v720H120Zm60-500h600v-160H180v160Zm220 220h160v-160H400v160Zm0 220h160v-160H400v160ZM180-400h160v-160H180v160Zm440 0h160v-160H620v160ZM180-180h160v-160H180v160Zm440 0h160v-160H620v160Z\"/>\n",
              "  </svg>\n",
              "    </button>\n",
              "\n",
              "  <style>\n",
              "    .colab-df-container {\n",
              "      display:flex;\n",
              "      gap: 12px;\n",
              "    }\n",
              "\n",
              "    .colab-df-convert {\n",
              "      background-color: #E8F0FE;\n",
              "      border: none;\n",
              "      border-radius: 50%;\n",
              "      cursor: pointer;\n",
              "      display: none;\n",
              "      fill: #1967D2;\n",
              "      height: 32px;\n",
              "      padding: 0 0 0 0;\n",
              "      width: 32px;\n",
              "    }\n",
              "\n",
              "    .colab-df-convert:hover {\n",
              "      background-color: #E2EBFA;\n",
              "      box-shadow: 0px 1px 2px rgba(60, 64, 67, 0.3), 0px 1px 3px 1px rgba(60, 64, 67, 0.15);\n",
              "      fill: #174EA6;\n",
              "    }\n",
              "\n",
              "    .colab-df-buttons div {\n",
              "      margin-bottom: 4px;\n",
              "    }\n",
              "\n",
              "    [theme=dark] .colab-df-convert {\n",
              "      background-color: #3B4455;\n",
              "      fill: #D2E3FC;\n",
              "    }\n",
              "\n",
              "    [theme=dark] .colab-df-convert:hover {\n",
              "      background-color: #434B5C;\n",
              "      box-shadow: 0px 1px 3px 1px rgba(0, 0, 0, 0.15);\n",
              "      filter: drop-shadow(0px 1px 2px rgba(0, 0, 0, 0.3));\n",
              "      fill: #FFFFFF;\n",
              "    }\n",
              "  </style>\n",
              "\n",
              "    <script>\n",
              "      const buttonEl =\n",
              "        document.querySelector('#df-3860ed3d-701f-4d89-a129-3e08418b4b37 button.colab-df-convert');\n",
              "      buttonEl.style.display =\n",
              "        google.colab.kernel.accessAllowed ? 'block' : 'none';\n",
              "\n",
              "      async function convertToInteractive(key) {\n",
              "        const element = document.querySelector('#df-3860ed3d-701f-4d89-a129-3e08418b4b37');\n",
              "        const dataTable =\n",
              "          await google.colab.kernel.invokeFunction('convertToInteractive',\n",
              "                                                    [key], {});\n",
              "        if (!dataTable) return;\n",
              "\n",
              "        const docLinkHtml = 'Like what you see? Visit the ' +\n",
              "          '<a target=\"_blank\" href=https://colab.research.google.com/notebooks/data_table.ipynb>data table notebook</a>'\n",
              "          + ' to learn more about interactive tables.';\n",
              "        element.innerHTML = '';\n",
              "        dataTable['output_type'] = 'display_data';\n",
              "        await google.colab.output.renderOutput(dataTable, element);\n",
              "        const docLink = document.createElement('div');\n",
              "        docLink.innerHTML = docLinkHtml;\n",
              "        element.appendChild(docLink);\n",
              "      }\n",
              "    </script>\n",
              "  </div>\n",
              "\n",
              "\n",
              "<div id=\"df-95a1e37b-ff27-4d97-882f-e80973e3bd27\">\n",
              "  <button class=\"colab-df-quickchart\" onclick=\"quickchart('df-95a1e37b-ff27-4d97-882f-e80973e3bd27')\"\n",
              "            title=\"Suggest charts\"\n",
              "            style=\"display:none;\">\n",
              "\n",
              "<svg xmlns=\"http://www.w3.org/2000/svg\" height=\"24px\"viewBox=\"0 0 24 24\"\n",
              "     width=\"24px\">\n",
              "    <g>\n",
              "        <path d=\"M19 3H5c-1.1 0-2 .9-2 2v14c0 1.1.9 2 2 2h14c1.1 0 2-.9 2-2V5c0-1.1-.9-2-2-2zM9 17H7v-7h2v7zm4 0h-2V7h2v10zm4 0h-2v-4h2v4z\"/>\n",
              "    </g>\n",
              "</svg>\n",
              "  </button>\n",
              "\n",
              "<style>\n",
              "  .colab-df-quickchart {\n",
              "      --bg-color: #E8F0FE;\n",
              "      --fill-color: #1967D2;\n",
              "      --hover-bg-color: #E2EBFA;\n",
              "      --hover-fill-color: #174EA6;\n",
              "      --disabled-fill-color: #AAA;\n",
              "      --disabled-bg-color: #DDD;\n",
              "  }\n",
              "\n",
              "  [theme=dark] .colab-df-quickchart {\n",
              "      --bg-color: #3B4455;\n",
              "      --fill-color: #D2E3FC;\n",
              "      --hover-bg-color: #434B5C;\n",
              "      --hover-fill-color: #FFFFFF;\n",
              "      --disabled-bg-color: #3B4455;\n",
              "      --disabled-fill-color: #666;\n",
              "  }\n",
              "\n",
              "  .colab-df-quickchart {\n",
              "    background-color: var(--bg-color);\n",
              "    border: none;\n",
              "    border-radius: 50%;\n",
              "    cursor: pointer;\n",
              "    display: none;\n",
              "    fill: var(--fill-color);\n",
              "    height: 32px;\n",
              "    padding: 0;\n",
              "    width: 32px;\n",
              "  }\n",
              "\n",
              "  .colab-df-quickchart:hover {\n",
              "    background-color: var(--hover-bg-color);\n",
              "    box-shadow: 0 1px 2px rgba(60, 64, 67, 0.3), 0 1px 3px 1px rgba(60, 64, 67, 0.15);\n",
              "    fill: var(--button-hover-fill-color);\n",
              "  }\n",
              "\n",
              "  .colab-df-quickchart-complete:disabled,\n",
              "  .colab-df-quickchart-complete:disabled:hover {\n",
              "    background-color: var(--disabled-bg-color);\n",
              "    fill: var(--disabled-fill-color);\n",
              "    box-shadow: none;\n",
              "  }\n",
              "\n",
              "  .colab-df-spinner {\n",
              "    border: 2px solid var(--fill-color);\n",
              "    border-color: transparent;\n",
              "    border-bottom-color: var(--fill-color);\n",
              "    animation:\n",
              "      spin 1s steps(1) infinite;\n",
              "  }\n",
              "\n",
              "  @keyframes spin {\n",
              "    0% {\n",
              "      border-color: transparent;\n",
              "      border-bottom-color: var(--fill-color);\n",
              "      border-left-color: var(--fill-color);\n",
              "    }\n",
              "    20% {\n",
              "      border-color: transparent;\n",
              "      border-left-color: var(--fill-color);\n",
              "      border-top-color: var(--fill-color);\n",
              "    }\n",
              "    30% {\n",
              "      border-color: transparent;\n",
              "      border-left-color: var(--fill-color);\n",
              "      border-top-color: var(--fill-color);\n",
              "      border-right-color: var(--fill-color);\n",
              "    }\n",
              "    40% {\n",
              "      border-color: transparent;\n",
              "      border-right-color: var(--fill-color);\n",
              "      border-top-color: var(--fill-color);\n",
              "    }\n",
              "    60% {\n",
              "      border-color: transparent;\n",
              "      border-right-color: var(--fill-color);\n",
              "    }\n",
              "    80% {\n",
              "      border-color: transparent;\n",
              "      border-right-color: var(--fill-color);\n",
              "      border-bottom-color: var(--fill-color);\n",
              "    }\n",
              "    90% {\n",
              "      border-color: transparent;\n",
              "      border-bottom-color: var(--fill-color);\n",
              "    }\n",
              "  }\n",
              "</style>\n",
              "\n",
              "  <script>\n",
              "    async function quickchart(key) {\n",
              "      const quickchartButtonEl =\n",
              "        document.querySelector('#' + key + ' button');\n",
              "      quickchartButtonEl.disabled = true;  // To prevent multiple clicks.\n",
              "      quickchartButtonEl.classList.add('colab-df-spinner');\n",
              "      try {\n",
              "        const charts = await google.colab.kernel.invokeFunction(\n",
              "            'suggestCharts', [key], {});\n",
              "      } catch (error) {\n",
              "        console.error('Error during call to suggestCharts:', error);\n",
              "      }\n",
              "      quickchartButtonEl.classList.remove('colab-df-spinner');\n",
              "      quickchartButtonEl.classList.add('colab-df-quickchart-complete');\n",
              "    }\n",
              "    (() => {\n",
              "      let quickchartButtonEl =\n",
              "        document.querySelector('#df-95a1e37b-ff27-4d97-882f-e80973e3bd27 button');\n",
              "      quickchartButtonEl.style.display =\n",
              "        google.colab.kernel.accessAllowed ? 'block' : 'none';\n",
              "    })();\n",
              "  </script>\n",
              "</div>\n",
              "\n",
              "    </div>\n",
              "  </div>\n"
            ],
            "application/vnd.google.colaboratory.intrinsic+json": {
              "type": "dataframe",
              "summary": "{\n  \"name\": \"avc\",\n  \"rows\": 11,\n  \"fields\": [\n    {\n      \"column\": \"count\",\n      \"properties\": {\n        \"dtype\": \"number\",\n        \"std\": 0.9045340337332909,\n        \"min\": 40907.0,\n        \"max\": 40910.0,\n        \"num_unique_values\": 2,\n        \"samples\": [\n          40910.0,\n          40907.0\n        ],\n        \"semantic_type\": \"\",\n        \"description\": \"\"\n      }\n    },\n    {\n      \"column\": \"mean\",\n      \"properties\": {\n        \"dtype\": \"number\",\n        \"std\": 38.00977082603515,\n        \"min\": 0.1277193840136886,\n        \"max\": 122.07590075776093,\n        \"num_unique_values\": 11,\n        \"samples\": [\n          3.461134197017844,\n          0.5551617082650891\n        ],\n        \"semantic_type\": \"\",\n        \"description\": \"\"\n      }\n    },\n    {\n      \"column\": \"std\",\n      \"properties\": {\n        \"dtype\": \"number\",\n        \"std\": 17.591305445164032,\n        \"min\": 0.33378116521550627,\n        \"max\": 57.561531200354096,\n        \"num_unique_values\": 11,\n        \"samples\": [\n          0.7809187565368065,\n          0.4969539446755928\n        ],\n        \"semantic_type\": \"\",\n        \"description\": \"\"\n      }\n    },\n    {\n      \"column\": \"min\",\n      \"properties\": {\n        \"dtype\": \"number\",\n        \"std\": 17.17451706347623,\n        \"min\": -9.0,\n        \"max\": 55.12,\n        \"num_unique_values\": 4,\n        \"samples\": [\n          -9.0,\n          11.5\n        ],\n        \"semantic_type\": \"\",\n        \"description\": \"\"\n      }\n    },\n    {\n      \"column\": \"25%\",\n      \"properties\": {\n        \"dtype\": \"number\",\n        \"std\": 24.962840565346504,\n        \"min\": 0.0,\n        \"max\": 78.75,\n        \"num_unique_values\": 6,\n        \"samples\": [\n          0.0,\n          35.0\n        ],\n        \"semantic_type\": \"\",\n        \"description\": \"\"\n      }\n    },\n    {\n      \"column\": \"50%\",\n      \"properties\": {\n        \"dtype\": \"number\",\n        \"std\": 31.60189407442075,\n        \"min\": 0.0,\n        \"max\": 97.92,\n        \"num_unique_values\": 6,\n        \"samples\": [\n          1.0,\n          52.0\n        ],\n        \"semantic_type\": \"\",\n        \"description\": \"\"\n      }\n    },\n    {\n      \"column\": \"75%\",\n      \"properties\": {\n        \"dtype\": \"number\",\n        \"std\": 51.80104272379782,\n        \"min\": 0.0,\n        \"max\": 167.59,\n        \"num_unique_values\": 6,\n        \"samples\": [\n          1.0,\n          68.0\n        ],\n        \"semantic_type\": \"\",\n        \"description\": \"\"\n      }\n    },\n    {\n      \"column\": \"max\",\n      \"properties\": {\n        \"dtype\": \"number\",\n        \"std\": 84.96466623891904,\n        \"min\": 1.0,\n        \"max\": 271.74,\n        \"num_unique_values\": 5,\n        \"samples\": [\n          103.0,\n          92.0\n        ],\n        \"semantic_type\": \"\",\n        \"description\": \"\"\n      }\n    }\n  ]\n}"
            }
          },
          "metadata": {},
          "execution_count": 44
        }
      ],
      "source": [
        "avc.describe().T"
      ]
    },
    {
      "cell_type": "markdown",
      "metadata": {
        "id": "Z-qJ3ktlfbyI"
      },
      "source": [
        "# Algumas coisas que já conseguimos observar\n",
        "- Existem idades negativas que devem ser corrigidas\n",
        "- Existe um certo equilibrio de dados nas colunas: sex, Residence_type, smoking_status, stroke, pois a média se aproxima de 0,5\n",
        "- Existe um desequilibrio de dados em: hypertension, hrat_disease, ever_married."
      ]
    },
    {
      "cell_type": "code",
      "execution_count": 45,
      "metadata": {
        "colab": {
          "base_uri": "https://localhost:8080/"
        },
        "id": "qsBjnEMwdi98",
        "outputId": "0703cda6-f0fa-4ee7-f3a6-93104ebd73a3"
      },
      "outputs": [
        {
          "output_type": "stream",
          "name": "stdout",
          "text": [
            "0 linhas duplicadas removidas.\n"
          ]
        }
      ],
      "source": [
        "# Verificando a existência de dados duplicados\n",
        "duplicados = avc.drop_duplicates()\n",
        "\n",
        "duplicatas_removidas = avc.shape[0] - duplicados.shape[0]\n",
        "print(f'{duplicatas_removidas} linhas duplicadas removidas.')"
      ]
    },
    {
      "cell_type": "code",
      "execution_count": 46,
      "metadata": {
        "colab": {
          "base_uri": "https://localhost:8080/"
        },
        "id": "U1SzS3oDwzb3",
        "outputId": "fd2c953d-6964-40bf-a843-6af761646855"
      },
      "outputs": [
        {
          "output_type": "execute_result",
          "data": {
            "text/plain": [
              "stroke\n",
              "1    20460\n",
              "0    20450\n",
              "Name: count, dtype: int64"
            ]
          },
          "metadata": {},
          "execution_count": 46
        }
      ],
      "source": [
        "# Verificando o equilibrio do nosso target 'stroke'\n",
        "avc.stroke.value_counts()"
      ]
    },
    {
      "cell_type": "code",
      "execution_count": 47,
      "metadata": {
        "colab": {
          "base_uri": "https://localhost:8080/",
          "height": 466
        },
        "id": "vKR05vRTgvIv",
        "outputId": "045ca5e6-8337-4eca-e434-04bfbe5163b9"
      },
      "outputs": [
        {
          "output_type": "execute_result",
          "data": {
            "text/plain": [
              "[<matplotlib.lines.Line2D at 0x788357b83f10>]"
            ]
          },
          "metadata": {},
          "execution_count": 47
        },
        {
          "output_type": "display_data",
          "data": {
            "text/plain": [
              "<Figure size 640x480 with 1 Axes>"
            ],
            "image/png": "[encoded data removed]"
          },
          "metadata": {}
        }
      ],
      "source": [
        "# Verificando a idade dos pacientes\n",
        "fig, ax = plt.subplots()\n",
        "\n",
        "sns.histplot(x='age', data=avc, palette='viridis')\n",
        "\n",
        "ax.plot([0,0], [0, 1200], '--r')"
      ]
    },
    {
      "cell_type": "code",
      "execution_count": 48,
      "metadata": {
        "colab": {
          "base_uri": "https://localhost:8080/"
        },
        "id": "YZ41YRvug7wX",
        "outputId": "554af5ea-ed15-426d-cf40-eb9833dccaac"
      },
      "outputs": [
        {
          "output_type": "stream",
          "name": "stdout",
          "text": [
            "Quantidade de pacientes com idade abaixo de zero: 58\n",
            "Quantidade de pacientes com idade negativa que são crianças: 0\n"
          ]
        }
      ],
      "source": [
        "# Podemos verificar se são crianças pela coluna 'work_type'\n",
        "idade_neg = len(avc[avc['age']<0])\n",
        "print(f'Quantidade de pacientes com idade abaixo de zero: {idade_neg}')\n",
        "\n",
        "crianca = len(avc[(avc['age'] < 0) & (avc['work_type'] == 1)])\n",
        "print(f'Quantidade de pacientes com idade negativa que são crianças: {crianca}')"
      ]
    },
    {
      "cell_type": "markdown",
      "metadata": {
        "id": "vqfNO6VUmmer"
      },
      "source": [
        "Verificado que nenhuma das idades negativas se trata de crianças de acordo com os dados de trabalho. Decidi substituir essas idade negativas pela mediana de idades de homens e mulheres para não atrapalhar as métricas do dataset e futuramente do nosso modelo."
      ]
    },
    {
      "cell_type": "code",
      "execution_count": 49,
      "metadata": {
        "id": "PYyaLoGXkMHX"
      },
      "outputs": [],
      "source": [
        "# Substituindo as idades negativas para a madiana de idade masculina e feminina\n",
        "# Calculando a média das idades para cada sexo\n",
        "median_idade_homem = avc[avc['sex'] == 1]['age'].median()\n",
        "median_idade_mulher = avc[avc['sex'] == 0]['age'].median()\n",
        "\n",
        "# Substituindo idades negativas pela média do sexo correspondente\n",
        "avc.loc[avc['age'] < 0, 'age'] = avc.loc[avc['age'] < 0].apply(lambda row: median_idade_homem if row['sex'] == 1 else median_idade_mulher, axis=1)"
      ]
    },
    {
      "cell_type": "code",
      "execution_count": 50,
      "metadata": {
        "colab": {
          "base_uri": "https://localhost:8080/",
          "height": 466
        },
        "id": "mA2q6Y2pmRK7",
        "outputId": "5b5d9507-5ad2-434a-a05b-f8152d9b91fc"
      },
      "outputs": [
        {
          "output_type": "execute_result",
          "data": {
            "text/plain": [
              "[<matplotlib.lines.Line2D at 0x7883575fe890>]"
            ]
          },
          "metadata": {},
          "execution_count": 50
        },
        {
          "output_type": "display_data",
          "data": {
            "text/plain": [
              "<Figure size 640x480 with 1 Axes>"
            ],
            "image/png": "[encoded data removed]"
          },
          "metadata": {}
        }
      ],
      "source": [
        "# Verificando a idade dos pacientes\n",
        "fig, ax = plt.subplots()\n",
        "\n",
        "sns.histplot(x='age', data=avc, palette='viridis')\n",
        "\n",
        "ax.plot([0,0], [0, 1200], '--r')"
      ]
    },
    {
      "cell_type": "code",
      "execution_count": 51,
      "metadata": {
        "colab": {
          "base_uri": "https://localhost:8080/"
        },
        "id": "1Nugc-q9w5l3",
        "outputId": "717c3f13-4141-472a-d25c-cf6c5a67cf72"
      },
      "outputs": [
        {
          "output_type": "execute_result",
          "data": {
            "text/plain": [
              "sex                  3\n",
              "age                  0\n",
              "hypertension         0\n",
              "heart_disease        0\n",
              "ever_married         0\n",
              "work_type            0\n",
              "Residence_type       0\n",
              "avg_glucose_level    0\n",
              "bmi                  0\n",
              "smoking_status       0\n",
              "stroke               0\n",
              "dtype: int64"
            ]
          },
          "metadata": {},
          "execution_count": 51
        }
      ],
      "source": [
        "# Verificando falta de dados\n",
        "avc.isnull().sum()"
      ]
    },
    {
      "cell_type": "code",
      "execution_count": 52,
      "metadata": {
        "colab": {
          "base_uri": "https://localhost:8080/",
          "height": 143
        },
        "id": "I3jOz5e0mUEh",
        "outputId": "456215d6-82c2-4167-ba7d-cf6d0df0bbb9"
      },
      "outputs": [
        {
          "output_type": "execute_result",
          "data": {
            "text/plain": [
              "       sex   age  hypertension  heart_disease  ever_married  work_type  \\\n",
              "22478  NaN  39.0             0              0             1          4   \n",
              "28908  NaN  36.0             0              0             1          4   \n",
              "35184  NaN  77.0             0              0             1          4   \n",
              "\n",
              "       Residence_type  avg_glucose_level   bmi  smoking_status  stroke  \n",
              "22478               1              70.56  28.6               1       0  \n",
              "28908               1              70.56  28.6               1       0  \n",
              "35184               1              70.56  28.6               1       0  "
            ],
            "text/html": [
              "\n",
              "  <div id=\"df-fd604870-83e5-4375-83bf-4c5b2b9e4d9e\" class=\"colab-df-container\">\n",
              "    <div>\n",
              "<style scoped>\n",
              "    .dataframe tbody tr th:only-of-type {\n",
              "        vertical-align: middle;\n",
              "    }\n",
              "\n",
              "    .dataframe tbody tr th {\n",
              "        vertical-align: top;\n",
              "    }\n",
              "\n",
              "    .dataframe thead th {\n",
              "        text-align: right;\n",
              "    }\n",
              "</style>\n",
              "<table border=\"1\" class=\"dataframe\">\n",
              "  <thead>\n",
              "    <tr style=\"text-align: right;\">\n",
              "      <th></th>\n",
              "      <th>sex</th>\n",
              "      <th>age</th>\n",
              "      <th>hypertension</th>\n",
              "      <th>heart_disease</th>\n",
              "      <th>ever_married</th>\n",
              "      <th>work_type</th>\n",
              "      <th>Residence_type</th>\n",
              "      <th>avg_glucose_level</th>\n",
              "      <th>bmi</th>\n",
              "      <th>smoking_status</th>\n",
              "      <th>stroke</th>\n",
              "    </tr>\n",
              "  </thead>\n",
              "  <tbody>\n",
              "    <tr>\n",
              "      <th>22478</th>\n",
              "      <td>NaN</td>\n",
              "      <td>39.0</td>\n",
              "      <td>0</td>\n",
              "      <td>0</td>\n",
              "      <td>1</td>\n",
              "      <td>4</td>\n",
              "      <td>1</td>\n",
              "      <td>70.56</td>\n",
              "      <td>28.6</td>\n",
              "      <td>1</td>\n",
              "      <td>0</td>\n",
              "    </tr>\n",
              "    <tr>\n",
              "      <th>28908</th>\n",
              "      <td>NaN</td>\n",
              "      <td>36.0</td>\n",
              "      <td>0</td>\n",
              "      <td>0</td>\n",
              "      <td>1</td>\n",
              "      <td>4</td>\n",
              "      <td>1</td>\n",
              "      <td>70.56</td>\n",
              "      <td>28.6</td>\n",
              "      <td>1</td>\n",
              "      <td>0</td>\n",
              "    </tr>\n",
              "    <tr>\n",
              "      <th>35184</th>\n",
              "      <td>NaN</td>\n",
              "      <td>77.0</td>\n",
              "      <td>0</td>\n",
              "      <td>0</td>\n",
              "      <td>1</td>\n",
              "      <td>4</td>\n",
              "      <td>1</td>\n",
              "      <td>70.56</td>\n",
              "      <td>28.6</td>\n",
              "      <td>1</td>\n",
              "      <td>0</td>\n",
              "    </tr>\n",
              "  </tbody>\n",
              "</table>\n",
              "</div>\n",
              "    <div class=\"colab-df-buttons\">\n",
              "\n",
              "  <div class=\"colab-df-container\">\n",
              "    <button class=\"colab-df-convert\" onclick=\"convertToInteractive('df-fd604870-83e5-4375-83bf-4c5b2b9e4d9e')\"\n",
              "            title=\"Convert this dataframe to an interactive table.\"\n",
              "            style=\"display:none;\">\n",
              "\n",
              "  <svg xmlns=\"http://www.w3.org/2000/svg\" height=\"24px\" viewBox=\"0 -960 960 960\">\n",
              "    <path d=\"M120-120v-720h720v720H120Zm60-500h600v-160H180v160Zm220 220h160v-160H400v160Zm0 220h160v-160H400v160ZM180-400h160v-160H180v160Zm440 0h160v-160H620v160ZM180-180h160v-160H180v160Zm440 0h160v-160H620v160Z\"/>\n",
              "  </svg>\n",
              "    </button>\n",
              "\n",
              "  <style>\n",
              "    .colab-df-container {\n",
              "      display:flex;\n",
              "      gap: 12px;\n",
              "    }\n",
              "\n",
              "    .colab-df-convert {\n",
              "      background-color: #E8F0FE;\n",
              "      border: none;\n",
              "      border-radius: 50%;\n",
              "      cursor: pointer;\n",
              "      display: none;\n",
              "      fill: #1967D2;\n",
              "      height: 32px;\n",
              "      padding: 0 0 0 0;\n",
              "      width: 32px;\n",
              "    }\n",
              "\n",
              "    .colab-df-convert:hover {\n",
              "      background-color: #E2EBFA;\n",
              "      box-shadow: 0px 1px 2px rgba(60, 64, 67, 0.3), 0px 1px 3px 1px rgba(60, 64, 67, 0.15);\n",
              "      fill: #174EA6;\n",
              "    }\n",
              "\n",
              "    .colab-df-buttons div {\n",
              "      margin-bottom: 4px;\n",
              "    }\n",
              "\n",
              "    [theme=dark] .colab-df-convert {\n",
              "      background-color: #3B4455;\n",
              "      fill: #D2E3FC;\n",
              "    }\n",
              "\n",
              "    [theme=dark] .colab-df-convert:hover {\n",
              "      background-color: #434B5C;\n",
              "      box-shadow: 0px 1px 3px 1px rgba(0, 0, 0, 0.15);\n",
              "      filter: drop-shadow(0px 1px 2px rgba(0, 0, 0, 0.3));\n",
              "      fill: #FFFFFF;\n",
              "    }\n",
              "  </style>\n",
              "\n",
              "    <script>\n",
              "      const buttonEl =\n",
              "        document.querySelector('#df-fd604870-83e5-4375-83bf-4c5b2b9e4d9e button.colab-df-convert');\n",
              "      buttonEl.style.display =\n",
              "        google.colab.kernel.accessAllowed ? 'block' : 'none';\n",
              "\n",
              "      async function convertToInteractive(key) {\n",
              "        const element = document.querySelector('#df-fd604870-83e5-4375-83bf-4c5b2b9e4d9e');\n",
              "        const dataTable =\n",
              "          await google.colab.kernel.invokeFunction('convertToInteractive',\n",
              "                                                    [key], {});\n",
              "        if (!dataTable) return;\n",
              "\n",
              "        const docLinkHtml = 'Like what you see? Visit the ' +\n",
              "          '<a target=\"_blank\" href=https://colab.research.google.com/notebooks/data_table.ipynb>data table notebook</a>'\n",
              "          + ' to learn more about interactive tables.';\n",
              "        element.innerHTML = '';\n",
              "        dataTable['output_type'] = 'display_data';\n",
              "        await google.colab.output.renderOutput(dataTable, element);\n",
              "        const docLink = document.createElement('div');\n",
              "        docLink.innerHTML = docLinkHtml;\n",
              "        element.appendChild(docLink);\n",
              "      }\n",
              "    </script>\n",
              "  </div>\n",
              "\n",
              "\n",
              "<div id=\"df-b4d93598-2146-46a8-a879-8d6e8017cac9\">\n",
              "  <button class=\"colab-df-quickchart\" onclick=\"quickchart('df-b4d93598-2146-46a8-a879-8d6e8017cac9')\"\n",
              "            title=\"Suggest charts\"\n",
              "            style=\"display:none;\">\n",
              "\n",
              "<svg xmlns=\"http://www.w3.org/2000/svg\" height=\"24px\"viewBox=\"0 0 24 24\"\n",
              "     width=\"24px\">\n",
              "    <g>\n",
              "        <path d=\"M19 3H5c-1.1 0-2 .9-2 2v14c0 1.1.9 2 2 2h14c1.1 0 2-.9 2-2V5c0-1.1-.9-2-2-2zM9 17H7v-7h2v7zm4 0h-2V7h2v10zm4 0h-2v-4h2v4z\"/>\n",
              "    </g>\n",
              "</svg>\n",
              "  </button>\n",
              "\n",
              "<style>\n",
              "  .colab-df-quickchart {\n",
              "      --bg-color: #E8F0FE;\n",
              "      --fill-color: #1967D2;\n",
              "      --hover-bg-color: #E2EBFA;\n",
              "      --hover-fill-color: #174EA6;\n",
              "      --disabled-fill-color: #AAA;\n",
              "      --disabled-bg-color: #DDD;\n",
              "  }\n",
              "\n",
              "  [theme=dark] .colab-df-quickchart {\n",
              "      --bg-color: #3B4455;\n",
              "      --fill-color: #D2E3FC;\n",
              "      --hover-bg-color: #434B5C;\n",
              "      --hover-fill-color: #FFFFFF;\n",
              "      --disabled-bg-color: #3B4455;\n",
              "      --disabled-fill-color: #666;\n",
              "  }\n",
              "\n",
              "  .colab-df-quickchart {\n",
              "    background-color: var(--bg-color);\n",
              "    border: none;\n",
              "    border-radius: 50%;\n",
              "    cursor: pointer;\n",
              "    display: none;\n",
              "    fill: var(--fill-color);\n",
              "    height: 32px;\n",
              "    padding: 0;\n",
              "    width: 32px;\n",
              "  }\n",
              "\n",
              "  .colab-df-quickchart:hover {\n",
              "    background-color: var(--hover-bg-color);\n",
              "    box-shadow: 0 1px 2px rgba(60, 64, 67, 0.3), 0 1px 3px 1px rgba(60, 64, 67, 0.15);\n",
              "    fill: var(--button-hover-fill-color);\n",
              "  }\n",
              "\n",
              "  .colab-df-quickchart-complete:disabled,\n",
              "  .colab-df-quickchart-complete:disabled:hover {\n",
              "    background-color: var(--disabled-bg-color);\n",
              "    fill: var(--disabled-fill-color);\n",
              "    box-shadow: none;\n",
              "  }\n",
              "\n",
              "  .colab-df-spinner {\n",
              "    border: 2px solid var(--fill-color);\n",
              "    border-color: transparent;\n",
              "    border-bottom-color: var(--fill-color);\n",
              "    animation:\n",
              "      spin 1s steps(1) infinite;\n",
              "  }\n",
              "\n",
              "  @keyframes spin {\n",
              "    0% {\n",
              "      border-color: transparent;\n",
              "      border-bottom-color: var(--fill-color);\n",
              "      border-left-color: var(--fill-color);\n",
              "    }\n",
              "    20% {\n",
              "      border-color: transparent;\n",
              "      border-left-color: var(--fill-color);\n",
              "      border-top-color: var(--fill-color);\n",
              "    }\n",
              "    30% {\n",
              "      border-color: transparent;\n",
              "      border-left-color: var(--fill-color);\n",
              "      border-top-color: var(--fill-color);\n",
              "      border-right-color: var(--fill-color);\n",
              "    }\n",
              "    40% {\n",
              "      border-color: transparent;\n",
              "      border-right-color: var(--fill-color);\n",
              "      border-top-color: var(--fill-color);\n",
              "    }\n",
              "    60% {\n",
              "      border-color: transparent;\n",
              "      border-right-color: var(--fill-color);\n",
              "    }\n",
              "    80% {\n",
              "      border-color: transparent;\n",
              "      border-right-color: var(--fill-color);\n",
              "      border-bottom-color: var(--fill-color);\n",
              "    }\n",
              "    90% {\n",
              "      border-color: transparent;\n",
              "      border-bottom-color: var(--fill-color);\n",
              "    }\n",
              "  }\n",
              "</style>\n",
              "\n",
              "  <script>\n",
              "    async function quickchart(key) {\n",
              "      const quickchartButtonEl =\n",
              "        document.querySelector('#' + key + ' button');\n",
              "      quickchartButtonEl.disabled = true;  // To prevent multiple clicks.\n",
              "      quickchartButtonEl.classList.add('colab-df-spinner');\n",
              "      try {\n",
              "        const charts = await google.colab.kernel.invokeFunction(\n",
              "            'suggestCharts', [key], {});\n",
              "      } catch (error) {\n",
              "        console.error('Error during call to suggestCharts:', error);\n",
              "      }\n",
              "      quickchartButtonEl.classList.remove('colab-df-spinner');\n",
              "      quickchartButtonEl.classList.add('colab-df-quickchart-complete');\n",
              "    }\n",
              "    (() => {\n",
              "      let quickchartButtonEl =\n",
              "        document.querySelector('#df-b4d93598-2146-46a8-a879-8d6e8017cac9 button');\n",
              "      quickchartButtonEl.style.display =\n",
              "        google.colab.kernel.accessAllowed ? 'block' : 'none';\n",
              "    })();\n",
              "  </script>\n",
              "</div>\n",
              "\n",
              "    </div>\n",
              "  </div>\n"
            ],
            "application/vnd.google.colaboratory.intrinsic+json": {
              "type": "dataframe",
              "summary": "{\n  \"name\": \"avc[avc['sex']\",\n  \"rows\": 3,\n  \"fields\": [\n    {\n      \"column\": \"sex\",\n      \"properties\": {\n        \"dtype\": \"number\",\n        \"std\": null,\n        \"min\": null,\n        \"max\": null,\n        \"num_unique_values\": 0,\n        \"samples\": [],\n        \"semantic_type\": \"\",\n        \"description\": \"\"\n      }\n    },\n    {\n      \"column\": \"age\",\n      \"properties\": {\n        \"dtype\": \"number\",\n        \"std\": 22.854612955229264,\n        \"min\": 36.0,\n        \"max\": 77.0,\n        \"num_unique_values\": 3,\n        \"samples\": [],\n        \"semantic_type\": \"\",\n        \"description\": \"\"\n      }\n    },\n    {\n      \"column\": \"hypertension\",\n      \"properties\": {\n        \"dtype\": \"number\",\n        \"std\": 0,\n        \"min\": 0,\n        \"max\": 0,\n        \"num_unique_values\": 1,\n        \"samples\": [],\n        \"semantic_type\": \"\",\n        \"description\": \"\"\n      }\n    },\n    {\n      \"column\": \"heart_disease\",\n      \"properties\": {\n        \"dtype\": \"number\",\n        \"std\": 0,\n        \"min\": 0,\n        \"max\": 0,\n        \"num_unique_values\": 1,\n        \"samples\": [],\n        \"semantic_type\": \"\",\n        \"description\": \"\"\n      }\n    },\n    {\n      \"column\": \"ever_married\",\n      \"properties\": {\n        \"dtype\": \"number\",\n        \"std\": 0,\n        \"min\": 1,\n        \"max\": 1,\n        \"num_unique_values\": 1,\n        \"samples\": [],\n        \"semantic_type\": \"\",\n        \"description\": \"\"\n      }\n    },\n    {\n      \"column\": \"work_type\",\n      \"properties\": {\n        \"dtype\": \"number\",\n        \"std\": 0,\n        \"min\": 4,\n        \"max\": 4,\n        \"num_unique_values\": 1,\n        \"samples\": [],\n        \"semantic_type\": \"\",\n        \"description\": \"\"\n      }\n    },\n    {\n      \"column\": \"Residence_type\",\n      \"properties\": {\n        \"dtype\": \"number\",\n        \"std\": 0,\n        \"min\": 1,\n        \"max\": 1,\n        \"num_unique_values\": 1,\n        \"samples\": [],\n        \"semantic_type\": \"\",\n        \"description\": \"\"\n      }\n    },\n    {\n      \"column\": \"avg_glucose_level\",\n      \"properties\": {\n        \"dtype\": \"number\",\n        \"std\": 0.0,\n        \"min\": 70.56,\n        \"max\": 70.56,\n        \"num_unique_values\": 1,\n        \"samples\": [],\n        \"semantic_type\": \"\",\n        \"description\": \"\"\n      }\n    },\n    {\n      \"column\": \"bmi\",\n      \"properties\": {\n        \"dtype\": \"number\",\n        \"std\": 4.351167857633658e-15,\n        \"min\": 28.6,\n        \"max\": 28.6,\n        \"num_unique_values\": 1,\n        \"samples\": [],\n        \"semantic_type\": \"\",\n        \"description\": \"\"\n      }\n    },\n    {\n      \"column\": \"smoking_status\",\n      \"properties\": {\n        \"dtype\": \"number\",\n        \"std\": 0,\n        \"min\": 1,\n        \"max\": 1,\n        \"num_unique_values\": 1,\n        \"samples\": [],\n        \"semantic_type\": \"\",\n        \"description\": \"\"\n      }\n    },\n    {\n      \"column\": \"stroke\",\n      \"properties\": {\n        \"dtype\": \"number\",\n        \"std\": 0,\n        \"min\": 0,\n        \"max\": 0,\n        \"num_unique_values\": 1,\n        \"samples\": [],\n        \"semantic_type\": \"\",\n        \"description\": \"\"\n      }\n    }\n  ]\n}"
            }
          },
          "metadata": {},
          "execution_count": 52
        }
      ],
      "source": [
        "# Verificando os 3 gêneros faltantes no dataset\n",
        "avc[avc['sex'].isnull()]"
      ]
    },
    {
      "cell_type": "markdown",
      "metadata": {
        "id": "VMLiwG3Xr_p0"
      },
      "source": [
        "Como não tem nenhuma informação relevante e temos uma grande quantidade de dados, vou excluir esses 3 pacientes do dataset."
      ]
    },
    {
      "cell_type": "code",
      "execution_count": 53,
      "metadata": {
        "colab": {
          "base_uri": "https://localhost:8080/"
        },
        "id": "lgQDGMUHn23z",
        "outputId": "67eee331-3d9e-4497-ecca-b60e12499a96"
      },
      "outputs": [
        {
          "output_type": "stream",
          "name": "stdout",
          "text": [
            "<class 'pandas.core.frame.DataFrame'>\n",
            "Index: 40907 entries, 0 to 40909\n",
            "Data columns (total 11 columns):\n",
            " #   Column             Non-Null Count  Dtype  \n",
            "---  ------             --------------  -----  \n",
            " 0   sex                40907 non-null  float64\n",
            " 1   age                40907 non-null  float64\n",
            " 2   hypertension       40907 non-null  int64  \n",
            " 3   heart_disease      40907 non-null  int64  \n",
            " 4   ever_married       40907 non-null  int64  \n",
            " 5   work_type          40907 non-null  int64  \n",
            " 6   Residence_type     40907 non-null  int64  \n",
            " 7   avg_glucose_level  40907 non-null  float64\n",
            " 8   bmi                40907 non-null  float64\n",
            " 9   smoking_status     40907 non-null  int64  \n",
            " 10  stroke             40907 non-null  int64  \n",
            "dtypes: float64(4), int64(7)\n",
            "memory usage: 3.7 MB\n"
          ]
        }
      ],
      "source": [
        "# Excluindo as informações nulas\n",
        "avc = avc.drop(avc[avc['sex'].isnull()].index)\n",
        "\n",
        "avc.info()"
      ]
    },
    {
      "cell_type": "markdown",
      "metadata": {
        "id": "i1S4O-_HunfP"
      },
      "source": [
        "### Analise Exploratória dos Dados"
      ]
    },
    {
      "cell_type": "code",
      "execution_count": 54,
      "metadata": {
        "colab": {
          "base_uri": "https://localhost:8080/",
          "height": 1000
        },
        "id": "1b5Nds52uw-a",
        "outputId": "4eaa42ba-39b8-4b4a-cd92-00662139126e"
      },
      "outputs": [
        {
          "output_type": "display_data",
          "data": {
            "text/plain": [
              "<Figure size 2500x2000 with 7 Axes>"
            ],
            "image/png": "[encoded data removed]"
          },
          "metadata": {}
        }
      ],
      "source": [
        "# Verificando os valores binários e sua relação com o avc\n",
        "sns.set_style(\"whitegrid\")\n",
        "avc_cat = avc[['sex', 'hypertension', 'heart_disease', 'ever_married', 'work_type', 'Residence_type', 'smoking_status']]\n",
        "plt.figure(figsize=(25, 20))\n",
        "plt.suptitle('AVC nos dados categóricos')\n",
        "\n",
        "# Subplots\n",
        "for i, feature in enumerate(avc_cat):\n",
        "    plt.subplot(2, 4, i+1)\n",
        "    ax = sns.countplot(x=feature, hue='stroke', data=avc, palette='coolwarm')\n",
        "    total = len(avc_cat)\n",
        "    for p in ax.patches:\n",
        "        height = p.get_height()\n",
        "        ax.text(p.get_x() + p.get_width() / 2.,\n",
        "                height + 0.5,\n",
        "                '{:.2f}%'.format((height / total) * 100),\n",
        "                ha=\"center\")"
      ]
    },
    {
      "cell_type": "markdown",
      "metadata": {
        "id": "ToLkYImUSaHz"
      },
      "source": [
        "Algumas variáveis tem uma maior influência na ocorrência de AVC's:\n",
        "- A existência de alguma doença cardiaca;\n",
        "- Hipertensão também pode aumentar a sinalização de AVC;\n",
        "- Ser um trabalhador autonamo também parece ter um certa influência;\n",
        "- Tipo de residência, casamento e sexo não tem uma indicação tão forte como as outras variáveis observando apenas pelo gráfico;"
      ]
    },
    {
      "cell_type": "code",
      "execution_count": 55,
      "metadata": {
        "colab": {
          "base_uri": "https://localhost:8080/",
          "height": 950
        },
        "id": "DumP94PKXee4",
        "outputId": "9380e9e1-7860-4399-c826-84d31205d811"
      },
      "outputs": [
        {
          "output_type": "display_data",
          "data": {
            "text/plain": [
              "<Figure size 1000x1000 with 3 Axes>"
            ],
            "image/png": "[encoded data removed]"
          },
          "metadata": {}
        }
      ],
      "source": [
        "# Vamos visualizar os dados números para tirar algumas informações deles\n",
        "avc_num = avc[['age', 'avg_glucose_level', 'bmi']]\n",
        "plt.figure(figsize=(10, 10))\n",
        "plt.suptitle('AVC nos dados numéricos')\n",
        "\n",
        "\n",
        "for i, feature in enumerate(avc_num):\n",
        "    plt.subplot(2, 2, i+1)\n",
        "    ax = sns.violinplot(x=feature, hue='stroke', data=avc, palette='coolwarm')"
      ]
    },
    {
      "cell_type": "markdown",
      "metadata": {
        "id": "uApFP5QmUxwr"
      },
      "source": [
        "Podemos notar que em níveis elevados de glicose, a ocorrência de AVC aumenta consideravelmente."
      ]
    },
    {
      "cell_type": "code",
      "execution_count": 56,
      "metadata": {
        "colab": {
          "base_uri": "https://localhost:8080/",
          "height": 541
        },
        "id": "TM_m5yFpx4cX",
        "outputId": "2dc67955-22e8-4631-90a8-d3f40bef9400"
      },
      "outputs": [
        {
          "output_type": "execute_result",
          "data": {
            "text/plain": [
              "<seaborn.axisgrid.FacetGrid at 0x788357ee0ee0>"
            ]
          },
          "metadata": {},
          "execution_count": 56
        },
        {
          "output_type": "display_data",
          "data": {
            "text/plain": [
              "<Figure size 1200x800 with 0 Axes>"
            ]
          },
          "metadata": {}
        },
        {
          "output_type": "display_data",
          "data": {
            "text/plain": [
              "<Figure size 558.875x500 with 1 Axes>"
            ],
            "image/png": "[encoded data removed]"
          },
          "metadata": {}
        }
      ],
      "source": [
        "# Verificando o impacto nos casos de avc pela variável 'avg_glucose_level'\n",
        "plt.figure(figsize=(12, 8))\n",
        "sns.displot(x='avg_glucose_level', data=avc, hue='stroke')"
      ]
    },
    {
      "cell_type": "markdown",
      "source": [
        "### Dividindo nosso dataset em treino e teste"
      ],
      "metadata": {
        "id": "EXJ40GDK84Kg"
      }
    },
    {
      "cell_type": "code",
      "execution_count": 57,
      "metadata": {
        "id": "-tAQpNn1Sy6T"
      },
      "outputs": [],
      "source": [
        "# Vamos dividir nossos dados entre atributos e classe\n",
        "array = avc.values\n",
        "feature = array[:,0:10] # Atributos\n",
        "target = array[:,10] # Classe\n",
        "\n",
        "# Vamos difivir fazer também a divisão de treino e teste\n",
        "# Separando em teste e treino\n",
        "X_train, X_test, y_train, y_test = train_test_split(feature, target,test_size=0.2, shuffle=True) # holdout com estratificação\n",
        "\n",
        "# Validação cruzada\n",
        "scoring = 'accuracy'\n",
        "num_particoes = 10\n",
        "kfold = KFold(n_splits=num_particoes, shuffle=True) # validação cruzada com estratificação"
      ]
    },
    {
      "cell_type": "markdown",
      "source": [
        "Nessas etapas eu deixei como comentário alguns modelos que acabavam por demorar demais a execução do código. Porém nenhum desses modelos apresentavam um resultado tão satisfatório."
      ],
      "metadata": {
        "id": "GZKalsAGKs9A"
      }
    },
    {
      "cell_type": "code",
      "execution_count": 58,
      "metadata": {
        "colab": {
          "base_uri": "https://localhost:8080/"
        },
        "id": "t2dFJocWfUlN",
        "outputId": "b273c6f8-931f-4680-976e-bf104ede2421"
      },
      "outputs": [
        {
          "output_type": "stream",
          "name": "stdout",
          "text": [
            "LR: 0.682139 (0.007224)\n",
            "KNN: 0.806295 (0.008100)\n",
            "CART: 0.999725 (0.000373)\n",
            "NB: 0.670772 (0.004268)\n",
            "Bagging: 0.999878 (0.000367)\n",
            "RF: 0.997586 (0.000971)\n",
            "ET: 0.996119 (0.001297)\n",
            "Ada: 0.739374 (0.007443)\n",
            "GB: 0.802628 (0.007528)\n"
          ]
        }
      ],
      "source": [
        "# Vamos fazer primeiro nossos modelos sem realizar a padronização e normalização dos dados\n",
        "\n",
        "# Lista que armazenará os modelos\n",
        "models = []\n",
        "\n",
        "# Criando os modelos e adicionando-os na lista de modelos\n",
        "models.append(('LR', LogisticRegression(max_iter=200)))\n",
        "models.append(('KNN', KNeighborsClassifier()))\n",
        "models.append(('CART', DecisionTreeClassifier()))\n",
        "models.append(('NB', GaussianNB()))\n",
        "# models.append(('SVM', SVC())) Estava demorando muito para excutar o código, e não apresentava um resultado satisfatório.\n",
        "\n",
        "# Definindo os parâmetros do classificador base para o BaggingClassifier\n",
        "base = DecisionTreeClassifier()\n",
        "num_trees = 100\n",
        "max_features = 3\n",
        "\n",
        "# Criando os modelos para o VotingClassifier\n",
        "bases = []\n",
        "model1 = LogisticRegression(max_iter=200)\n",
        "bases.append(('logistic', model1))\n",
        "model2 = DecisionTreeClassifier()\n",
        "bases.append(('cart', model2))\n",
        "model3 = SVC()\n",
        "bases.append(('svm', model3))\n",
        "\n",
        "# Criando os ensembles e adicionando-os na lista de modelos\n",
        "models.append(('Bagging', BaggingClassifier(base_estimator=base, n_estimators=num_trees)))\n",
        "models.append(('RF', RandomForestClassifier(n_estimators=num_trees, max_features=max_features)))\n",
        "models.append(('ET', ExtraTreesClassifier(n_estimators=num_trees, max_features=max_features)))\n",
        "models.append(('Ada', AdaBoostClassifier(n_estimators=num_trees)))\n",
        "models.append(('GB', GradientBoostingClassifier(n_estimators=num_trees)))\n",
        "# models.append(('Voting', VotingClassifier(bases))) Estava demorando muito para excutar o código, e não apresentava um resultado satisfatório.\n",
        "\n",
        "# Listas para armazenar os resultados\n",
        "results = []\n",
        "names = []\n",
        "\n",
        "# Avaliação dos modelos\n",
        "for name, model in models:\n",
        "    cv_results = cross_val_score(model, X_train, y_train, cv=kfold, scoring=scoring)\n",
        "    results.append(cv_results)\n",
        "    names.append(name)\n",
        "    msg = \"%s: %f (%f)\" % (name, cv_results.mean(), cv_results.std())\n",
        "    print(msg)"
      ]
    },
    {
      "cell_type": "markdown",
      "source": [
        "Podemos notar que modelos que tem como base de funcionamento as árvores de decisão tem um excelente resultado em relação aos outros. Mas devemos ter cuidado, pois um resultado tão alto pode ser devido a ocorrência de overfitting no modelo.\n",
        "\n",
        "Para tal, vamos verificar se existe essa possibilidade a seguir:"
      ],
      "metadata": {
        "id": "RqLBLaPfMDNQ"
      }
    },
    {
      "cell_type": "code",
      "source": [
        "# Checando a ocorrência de overfiting no modelo\n",
        "CART = DecisionTreeClassifier()\n",
        "CART = CART.fit(X_train, y_train)\n",
        "\n",
        "# Definindo os parâmetros\n",
        "param_grid = {'max_depth':range(1, CART.tree_.max_depth+1, 2),\n",
        "              'max_features': range(1, len(CART.feature_importances_)+1)}\n",
        "gridCART = GridSearchCV(DecisionTreeClassifier(), param_grid, n_jobs=-1)\n",
        "\n",
        "# fitting the model for grid search\n",
        "gridCART.fit(X_train, y_train)\n",
        "\n",
        "# Pegando os melhores parâmetros\n",
        "print('Os melhores parâmetros encontrados para a árvore de decisão são os seguintes:')\n",
        "print(gridCART.best_params_)\n",
        "\n",
        "print('\\n')\n",
        "\n",
        "y_pred_test = gridCART.predict(X_test)\n",
        "y_pred_train = gridCART.predict(X_train)\n",
        "\n",
        "# Observando o overfitting\n",
        "print(f'Acurácia no treinamento {accuracy_score(y_train, y_pred_train)}')\n",
        "print(f'Acurácia no teste {accuracy_score(y_test, y_pred_test)}')\n",
        "\n",
        "from sklearn.metrics import accuracy_score, roc_curve, roc_auc_score\n",
        "\n",
        "# Calculando probabilidades previstas para os conjuntos de teste\n",
        "probs_test = gridCART.predict_proba(X_test)[:, 1]\n",
        "\n",
        "# Calculando a pontuação AUC-ROC\n",
        "auc_roc = roc_auc_score(y_test, probs_test)\n",
        "print('\\n')\n",
        "print(\"AUC-ROC Score:\", auc_roc)\n",
        "\n",
        "# Calculando a curva ROC\n",
        "fpr, tpr, thresholds = roc_curve(y_test, probs_test)\n",
        "\n",
        "plt.figure(figsize=(8, 6))\n",
        "plt.plot(fpr, tpr, color='blue', lw=2, label='ROC curve (area = %0.2f)' % auc_roc)\n",
        "plt.plot([0, 1], [0, 1], color='gray', linestyle='--')"
      ],
      "metadata": {
        "colab": {
          "base_uri": "https://localhost:8080/",
          "height": 696
        },
        "id": "g-ZillfgG_e_",
        "outputId": "e63b10b4-f92c-450d-d444-bde91c5b1eea"
      },
      "execution_count": 59,
      "outputs": [
        {
          "output_type": "stream",
          "name": "stdout",
          "text": [
            "Os melhores parâmetros encontrados para a árvore de decisão são os seguintes:\n",
            "{'max_depth': 25, 'max_features': 9}\n",
            "\n",
            "\n",
            "Acurácia no treinamento 0.999877769289534\n",
            "Acurácia no teste 0.997433390369103\n",
            "\n",
            "\n",
            "AUC-ROC Score: 0.9975547247643897\n"
          ]
        },
        {
          "output_type": "execute_result",
          "data": {
            "text/plain": [
              "[<matplotlib.lines.Line2D at 0x7883561959f0>]"
            ]
          },
          "metadata": {},
          "execution_count": 59
        },
        {
          "output_type": "display_data",
          "data": {
            "text/plain": [
              "<Figure size 800x600 with 1 Axes>"
            ],
            "image/png": "[encoded data removed]"
          },
          "metadata": {}
        }
      ]
    },
    {
      "cell_type": "markdown",
      "source": [
        "**Não Existe overfitting, o modelo apenas tem um excelênte resultado na predição**\n",
        "\n",
        "E isso é excelente, mas vejemos como o modelo se comporta ao realizarmos a padronização e normalização do mesmo:"
      ],
      "metadata": {
        "id": "jtrbWSC5JbX2"
      }
    },
    {
      "cell_type": "code",
      "execution_count": 60,
      "metadata": {
        "colab": {
          "base_uri": "https://localhost:8080/"
        },
        "id": "yDdCxz2FgHCJ",
        "outputId": "ac6240fc-5b88-420b-95bb-d96909b6d856"
      },
      "outputs": [
        {
          "output_type": "stream",
          "name": "stdout",
          "text": [
            "LR-padr: 0.682108 (0.008258)\n",
            "KNN-padr: 0.873980 (0.006246)\n",
            "CART-padr: 0.999419 (0.000662)\n",
            "NB-padr: 0.670343 (0.008658)\n",
            "RF-padr: 0.997525 (0.000501)\n",
            "ET-padr: 0.996578 (0.001236)\n",
            "Ada-padr: 0.740260 (0.006392)\n",
            "GB-padr: 0.802812 (0.005039)\n"
          ]
        }
      ],
      "source": [
        "# Realizando os modelos com padronização\n",
        "standard_scaler = ('StandardScaler', StandardScaler())\n",
        "\n",
        "# Listas para armazenar os armazenar os pipelines e os resultados para todas as visões do dataset\n",
        "pipelines = []\n",
        "results = []\n",
        "names = []\n",
        "\n",
        "# Algoritmos que serão utilizados\n",
        "reg_log = ('LR', LogisticRegression(max_iter=200))\n",
        "knn = ('KNN', KNeighborsClassifier())\n",
        "cart = ('CART', DecisionTreeClassifier())\n",
        "naive_bayes = ('NB', GaussianNB())\n",
        "# svm = ('SVM', SVC()) Demorando demais o código e com um desempenho não recompensador\n",
        "bagging = ('Bag', BaggingClassifier(base_estimator=base, n_estimators=num_trees))\n",
        "random_forest = ('RF', RandomForestClassifier(n_estimators=num_trees, max_features=max_features))\n",
        "extra_trees = ('ET', ExtraTreesClassifier(n_estimators=num_trees, max_features=max_features))\n",
        "adaboost = ('Ada', AdaBoostClassifier(n_estimators=num_trees))\n",
        "gradient_boosting = ('GB', GradientBoostingClassifier(n_estimators=num_trees))\n",
        "# voting = ('Voting', VotingClassifier(bases)) Demorando demais o código e com um desempenho não recompensador\n",
        "\n",
        "# Dataset Padronizado\n",
        "pipelines.append(('LR-padr', Pipeline([standard_scaler, reg_log])))\n",
        "pipelines.append(('KNN-padr', Pipeline([standard_scaler, knn])))\n",
        "pipelines.append(('CART-padr', Pipeline([standard_scaler, cart])))\n",
        "pipelines.append(('NB-padr', Pipeline([standard_scaler, naive_bayes])))\n",
        "# pipelines.append(('SVM-padr', Pipeline([standard_scaler, svm]))) Demorando demais o código e com um desempenho não recompensador\n",
        "# pipelines.append(('Bag-padr', Pipeline([standard_scaler, bagging]))) Demorando demais o código e com um desempenho não recompensador\n",
        "pipelines.append(('RF-padr', Pipeline([standard_scaler, random_forest])))\n",
        "pipelines.append(('ET-padr', Pipeline([standard_scaler, extra_trees])))\n",
        "pipelines.append(('Ada-padr', Pipeline([standard_scaler, adaboost])))\n",
        "pipelines.append(('GB-padr', Pipeline([standard_scaler, gradient_boosting])))\n",
        "# pipelines.append(('Vot-padr', Pipeline([standard_scaler, voting]))) Demorando demais o código e com um desempenho não recompensador\n",
        "\n",
        "# Executando os pipelines\n",
        "for name, model in pipelines:\n",
        "    cv_results = cross_val_score(model, X_train, y_train, cv=kfold, scoring=scoring)\n",
        "    results.append(cv_results)\n",
        "    names.append(name)\n",
        "    msg = \"%s: %f (%f)\" % (name, cv_results.mean(), cv_results.std())\n",
        "    print(msg)"
      ]
    },
    {
      "cell_type": "markdown",
      "source": [
        "Os exelentes resultados para os modelos baseados em árvores de decisão continuaram excelentes.\n",
        "Vale destacar o bom resultado que o KNeighborsClassifier demonstrou com a padronização."
      ],
      "metadata": {
        "id": "aTMaKvyEPFcJ"
      }
    },
    {
      "cell_type": "code",
      "execution_count": 61,
      "metadata": {
        "colab": {
          "base_uri": "https://localhost:8080/"
        },
        "id": "fh_DVEGdjnNd",
        "outputId": "2d3ed9f2-4a12-4343-ad75-7f95abc604a6"
      },
      "outputs": [
        {
          "output_type": "stream",
          "name": "stdout",
          "text": [
            "LR-norm: 0.682231 (0.006644)\n",
            "KNN-norm: 0.852467 (0.005718)\n",
            "CART-norm: 0.999633 (0.000329)\n",
            "NB-norm: 0.670588 (0.008135)\n",
            "RF-norm: 0.997219 (0.001008)\n",
            "ET-norm: 0.996119 (0.001192)\n",
            "Ada-norm: 0.738915 (0.009837)\n",
            "GB-norm: 0.804737 (0.007215)\n"
          ]
        }
      ],
      "source": [
        "# Realizando os modelos com normalizado\n",
        "min_max_scaler = ('MinMaxScaler', MinMaxScaler())\n",
        "\n",
        "# Listas para armazenar os armazenar os pipelines e os resultados para todas as visões do dataset\n",
        "pipelines = []\n",
        "results = []\n",
        "names = []\n",
        "\n",
        "# Algoritmos que serão utilizados\n",
        "reg_log = ('LR', LogisticRegression(max_iter=200))\n",
        "knn = ('KNN', KNeighborsClassifier())\n",
        "cart = ('CART', DecisionTreeClassifier())\n",
        "naive_bayes = ('NB', GaussianNB())\n",
        "# svm = ('SVM', SVC()) Demorando demais o código e com um desempenho não recompensador\n",
        "bagging = ('Bag', BaggingClassifier(base_estimator=base, n_estimators=num_trees))\n",
        "random_forest = ('RF', RandomForestClassifier(n_estimators=num_trees, max_features=max_features))\n",
        "extra_trees = ('ET', ExtraTreesClassifier(n_estimators=num_trees, max_features=max_features))\n",
        "adaboost = ('Ada', AdaBoostClassifier(n_estimators=num_trees))\n",
        "gradient_boosting = ('GB', GradientBoostingClassifier(n_estimators=num_trees))\n",
        "# voting = ('Voting', VotingClassifier(bases)) Demorando demais o código e com um desempenho não recompensador\n",
        "\n",
        "# Dataset Normalizado\n",
        "pipelines.append(('LR-norm', Pipeline([min_max_scaler, reg_log])))\n",
        "pipelines.append(('KNN-norm', Pipeline([min_max_scaler, knn])))\n",
        "pipelines.append(('CART-norm', Pipeline([min_max_scaler, cart])))\n",
        "pipelines.append(('NB-norm', Pipeline([min_max_scaler, naive_bayes])))\n",
        "# pipelines.append(('SVM-norm', Pipeline([min_max_scaler, svm]))) Demorando demais o código e com um desempenho não recompensador\n",
        "# pipelines.append(('Bag-norm', Pipeline([min_max_scaler, bagging]))) Demorando demais o código e com um desempenho não recompensador\n",
        "pipelines.append(('RF-norm', Pipeline([min_max_scaler, random_forest])))\n",
        "pipelines.append(('ET-norm', Pipeline([min_max_scaler, extra_trees])))\n",
        "pipelines.append(('Ada-norm', Pipeline([min_max_scaler, adaboost])))\n",
        "pipelines.append(('GB-norm', Pipeline([min_max_scaler, gradient_boosting])))\n",
        "# pipelines.append(('Vot-norm', Pipeline([min_max_scaler, voting]))) Demorando demais o código e com um desempenho não recompensador\n",
        "\n",
        "# Executando os pipelines\n",
        "for name, model in pipelines:\n",
        "    cv_results = cross_val_score(model, X_train, y_train, cv=kfold, scoring=scoring)\n",
        "    results.append(cv_results)\n",
        "    names.append(name)\n",
        "    msg = \"%s: %f (%f)\" % (name, cv_results.mean(), cv_results.std())\n",
        "    print(msg)"
      ]
    },
    {
      "cell_type": "markdown",
      "source": [
        "Não tem muitas mudanças relevantes para a gente em relação a padronização, apesar da acurácia do KNN ser um pouco melhor agora."
      ],
      "metadata": {
        "id": "lkLJaqtSR8Hh"
      }
    },
    {
      "cell_type": "code",
      "execution_count": 62,
      "metadata": {
        "colab": {
          "base_uri": "https://localhost:8080/"
        },
        "id": "ca6TQTsyv79p",
        "outputId": "fb96921f-65ec-46a7-df13-54ad03e307cc"
      },
      "outputs": [
        {
          "output_type": "stream",
          "name": "stdout",
          "text": [
            "CART-orig - Melhor: 0.999083 usando {'CART__max_depth': 25, 'CART__max_features': 10}\n",
            "CART-orig-kbest - Melhor: 0.987043 usando {'CART__max_depth': 25, 'CART__max_features': 5}\n"
          ]
        }
      ],
      "source": [
        "# Fazendo a otimização do parâmetro\n",
        "pipelines = []\n",
        "\n",
        "# Definindo os componentes do pipeline\n",
        "CART = DecisionTreeClassifier()\n",
        "standard_scaler = StandardScaler()\n",
        "min_max_scaler = MinMaxScaler()\n",
        "num_features = 5\n",
        "\n",
        "pipelines.append(('CART-orig', Pipeline(steps=[('CART', CART)])))\n",
        "# pipelines.append(('CART-padr', Pipeline(steps=[('StandardScaler', standard_scaler), ('CART', CART)])))\n",
        "# pipelines.append(('CART-norm', Pipeline(steps=[('MinMaxScaler', min_max_scaler), ('CART', CART)])))\n",
        "pipelines.append(('CART-orig-kbest', Pipeline(steps=[('FeatureSelection', SelectKBest(f_classif, k=num_features)), ('CART', CART)])))\n",
        "# pipelines.append(('CART-padr-kbest', Pipeline(steps=[('StandardScaler', standard_scaler), ('FeatureSelection', SelectKBest(f_classif, k=num_features)), ('CART', CART)])))\n",
        "# pipelines.append(('CART-norm-best', Pipeline(steps=[('MinMaxScaler', min_max_scaler), ('FeatureSelection', SelectKBest(f_classif, k=num_features)), ('CART', CART)])))\n",
        "\n",
        "# Ajuste do modelo ao conjunto de treinamento\n",
        "CART.fit(X_train, y_train)\n",
        "\n",
        "param_grid = {'CART__max_depth':range(1, CART.get_depth()+1, 2),\n",
        "              'CART__max_features': range(1, X_train.shape[1]+1)}\n",
        "\n",
        "# Prepara e executa o GridSearchCV\n",
        "kfold = KFold(n_splits=10)\n",
        "scoring = 'accuracy'\n",
        "for name, model in pipelines:\n",
        "    grid = GridSearchCV(estimator=model, param_grid=param_grid, scoring=scoring, cv=kfold)\n",
        "    grid.fit(X_train, y_train)\n",
        "    # imprime a melhor configuração\n",
        "    print(\"%s - Melhor: %f usando %s\" % (name, grid.best_score_, grid.best_params_))"
      ]
    },
    {
      "cell_type": "markdown",
      "source": [
        "Esses foram os resultados obtidos para todo o código:\n",
        "- CART-orig - Melhor: 0.999328 usando {'CART__max_depth': 27, 'CART__max_features': 10}\n",
        "- CART-padr - Melhor: 0.999297 usando {'CART__max_depth': 27, 'CART__max_features': 10}\n",
        "- CART-norm - Melhor: 0.999358 usando {'CART__max_depth': 27, 'CART__max_features': 10}\n",
        "- CART-orig-kbest - Melhor: 0.993216 usando {'CART__max_depth': 27, 'CART__max_features': 5}\n",
        "- CART-padr-kbest - Melhor: 0.993797 usando {'CART__max_depth': 27, 'CART__max_features': 3}\n",
        "- CART-norm-best - Melhor: 0.993216 usando {'CART__max_depth': 27, 'CART__max_features': 5}\n",
        "\n",
        "Eu deixei a maioria como comentário para agilizar a execução do dataset.\n",
        "\n",
        "**Não ouve uma melhora significativa em nenhum dos modelos, então vou continuar meu modelo com apenas o feature selection para diminuir as features do meu dataset quando rodar o código.**"
      ],
      "metadata": {
        "id": "HBcZxnmyWFD6"
      }
    },
    {
      "cell_type": "code",
      "execution_count": 63,
      "metadata": {
        "colab": {
          "base_uri": "https://localhost:8080/"
        },
        "id": "LhgPMJ45xT2r",
        "outputId": "d937b369-4b3d-4658-e716-f76b4f7dff94"
      },
      "outputs": [
        {
          "output_type": "stream",
          "name": "stdout",
          "text": [
            "Acurácia do modelo: 0.9964556343192373\n",
            "Número de características selecionadas: 5\n"
          ]
        }
      ],
      "source": [
        "# Avaliação do modelo com o conjunto de testes\n",
        "\n",
        "# Cria o pipeline\n",
        "pipe = make_pipeline(SelectKBest(f_classif, k=num_features), DecisionTreeClassifier())\n",
        "\n",
        "# Ajusta o pipeline aos dados de treinamento\n",
        "pipe.fit(X_train, y_train)\n",
        "\n",
        "# Preveja os rótulos do conjunto de teste\n",
        "predictions = pipe.predict(X_test)\n",
        "\n",
        "# Calcule a acurácia\n",
        "accuracy = accuracy_score(y_test, predictions)\n",
        "\n",
        "print(\"Acurácia do modelo:\", accuracy)\n",
        "\n",
        "# Verifica as características selecionadas\n",
        "selected_features = pipe.named_steps['selectkbest'].get_support(indices=True)\n",
        "\n",
        "print(\"Número de características selecionadas:\", len(selected_features))"
      ]
    },
    {
      "cell_type": "code",
      "execution_count": 64,
      "metadata": {
        "colab": {
          "base_uri": "https://localhost:8080/",
          "height": 608
        },
        "id": "RWp7GsYNBRz1",
        "outputId": "0fb1a45d-f351-4852-81bb-0d0c30588ce4"
      },
      "outputs": [
        {
          "output_type": "stream",
          "name": "stdout",
          "text": [
            "              precision    recall  f1-score   support\n",
            "\n",
            "         0.0       1.00      0.99      1.00      4133\n",
            "         1.0       0.99      1.00      1.00      4049\n",
            "\n",
            "    accuracy                           1.00      8182\n",
            "   macro avg       1.00      1.00      1.00      8182\n",
            "weighted avg       1.00      1.00      1.00      8182\n",
            "\n"
          ]
        },
        {
          "output_type": "display_data",
          "data": {
            "text/plain": [
              "<Figure size 640x480 with 2 Axes>"
            ],
            "image/png": "[encoded data removed]"
          },
          "metadata": {}
        }
      ],
      "source": [
        "# Fazendo a matriz de confusão\n",
        "from sklearn.metrics import confusion_matrix, classification_report\n",
        "\n",
        "conf = confusion_matrix(y_test, predictions)\n",
        "\n",
        "# Plotando a matriz de confusão\n",
        "sns.heatmap(conf, annot=True, fmt=\"d\", cmap=\"Blues\")\n",
        "plt.title('Matriz de confussão')\n",
        "print(classification_report(y_test, predictions))"
      ]
    },
    {
      "cell_type": "code",
      "execution_count": 65,
      "metadata": {
        "colab": {
          "base_uri": "https://localhost:8080/"
        },
        "id": "mVcpg-59BlgX",
        "outputId": "bb9e351f-e650-44ac-d661-b9e76942e4bd"
      },
      "outputs": [
        {
          "output_type": "execute_result",
          "data": {
            "text/plain": [
              "1.0"
            ]
          },
          "metadata": {},
          "execution_count": 65
        }
      ],
      "source": [
        "# Fazendo o recall do modelo\n",
        "from sklearn.metrics import recall_score\n",
        "\n",
        "recall_score(y_test, predictions)"
      ]
    },
    {
      "cell_type": "markdown",
      "source": [
        "O Recall também apresentou um excelente resultado, o que é mais importante que a acurácia em sí, visto que nosso problema tem um prejuízo maior quanto se trata de falsos negativos.\n",
        "\n",
        "Estou bastante satisfeito com os resultados obtidos pelo modelo. Talvez possa melhorar a performance dele para rodar o mesmo mais rápido, visto que algumas linhas de códigos não se mostraram necessárias na prática, apenas como observação e aprendizado.\n",
        "\n"
      ],
      "metadata": {
        "id": "v2CXhJh_a3Lr"
      }
    },
    {
      "cell_type": "markdown",
      "source": [
        "## Quais são as principais features para o algoritmo?"
      ],
      "metadata": {
        "id": "LR4_Z8oibZHc"
      }
    },
    {
      "cell_type": "markdown",
      "source": [
        "É interessante encontrar as features que tem melhor correlação com o nosso target, que no caso é a ocorrência de AVC. Essa informação pode ser bem útil para o profissional da saúde que gostaria de estudar e indicar o melhor tratamento para o paciente, além de ser um bom guia para a prevenção da doença."
      ],
      "metadata": {
        "id": "qR-NzrzfdHAE"
      }
    },
    {
      "cell_type": "code",
      "source": [
        "# Importância de Atributos com ExtraTrees\n",
        "from sklearn.ensemble import ExtraTreesClassifier # ExtraTrees, para a Importância de Atributos\n",
        "\n",
        "# Criação do modelo para seleção de atributos\n",
        "modelo = ExtraTreesClassifier(n_estimators=100)\n",
        "modelo.fit(feature,target)\n",
        "\n",
        "# Exibe os atributos orginais\n",
        "print(\"\\nAtributos Originais:\", avc.columns[0:10])\n",
        "\n",
        "# Exibe a pontuação de importância para cada atributo (quanto maior a pontuação, mais importante é o atributo).\n",
        "print(modelo.feature_importances_)"
      ],
      "metadata": {
        "colab": {
          "base_uri": "https://localhost:8080/"
        },
        "id": "hUIZyuV4b8lk",
        "outputId": "7d047b29-f609-4fcb-be87-c14715867a02"
      },
      "execution_count": 66,
      "outputs": [
        {
          "output_type": "stream",
          "name": "stdout",
          "text": [
            "\n",
            "Atributos Originais: Index(['sex', 'age', 'hypertension', 'heart_disease', 'ever_married',\n",
            "       'work_type', 'Residence_type', 'avg_glucose_level', 'bmi',\n",
            "       'smoking_status'],\n",
            "      dtype='object')\n",
            "[0.01033481 0.03408235 0.06597896 0.04560718 0.03821629 0.07244224\n",
            " 0.04108295 0.36303513 0.29716044 0.03205966]\n"
          ]
        }
      ]
    },
    {
      "cell_type": "markdown",
      "source": [
        "As 5 colunas com o score mais altos são:\n",
        "- 'hypertension', 'heart_disease', 'work_type', 'avg_glucose_level', 'bmi'."
      ],
      "metadata": {
        "id": "KbkTVwK9gnwb"
      }
    },
    {
      "cell_type": "code",
      "source": [
        "# Criação do modelo\n",
        "modelo = DecisionTreeClassifier()\n",
        "\n",
        "# Eliminação Recursiva de Atributos\n",
        "rfe = RFE(modelo, n_features_to_select=5)\n",
        "fit = rfe.fit(feature, target)\n",
        "\n",
        "# Print dos resultados\n",
        "print(\"Atributos Originais:\", avc.columns[0:10])\n",
        "\n",
        "# Exibe os atributos selecionados\n",
        "print(\"\\nNomes dos Atributos Selecionados usando DecisionTreeClassifier: %s\" % fit.get_feature_names_out(input_features=avc.columns[0:10]))\n",
        "\n",
        "# Criação do modelo com Regressão Logística\n",
        "modelo = LogisticRegression()\n",
        "\n",
        "# Eliminação Recursiva de Atributos\n",
        "rfe = RFE(modelo, n_features_to_select=5)\n",
        "fit = rfe.fit(feature, target)\n",
        "print(\"\\nNomes dos Atributos Selecionados usando LogisticRegression: %s\" % fit.get_feature_names_out(input_features=avc.columns[0:10]))"
      ],
      "metadata": {
        "colab": {
          "base_uri": "https://localhost:8080/"
        },
        "id": "9AVYKqWigwv5",
        "outputId": "8eacd867-7a73-4eae-d989-25b97fd0e481"
      },
      "execution_count": 67,
      "outputs": [
        {
          "output_type": "stream",
          "name": "stdout",
          "text": [
            "Atributos Originais: Index(['sex', 'age', 'hypertension', 'heart_disease', 'ever_married',\n",
            "       'work_type', 'Residence_type', 'avg_glucose_level', 'bmi',\n",
            "       'smoking_status'],\n",
            "      dtype='object')\n",
            "\n",
            "Nomes dos Atributos Selecionados usando DecisionTreeClassifier: ['hypertension' 'ever_married' 'work_type' 'avg_glucose_level' 'bmi']\n",
            "\n",
            "Nomes dos Atributos Selecionados usando LogisticRegression: ['sex' 'hypertension' 'heart_disease' 'ever_married' 'smoking_status']\n"
          ]
        }
      ]
    },
    {
      "cell_type": "markdown",
      "source": [
        "Feito a eliminação recursiva de atributos, o modelo me trouxe um resultado diferente da seleção univariada, as 5 melhores variáveis foram:\n",
        "- 'hypertension' 'ever_married' 'work_type' 'avg_glucose_level', 'bmi'\n",
        "- 'avc_glucose_level' tem uma **execelente correlação** utilizando modelos baseados em árvore de decisão. Ao fazer a eliminação recursiva de atributos com o modelo de Regressão Logística essa categoria não aparece entre as 5 melhores."
      ],
      "metadata": {
        "id": "y_CpLxt6il9K"
      }
    },
    {
      "cell_type": "markdown",
      "source": [
        "Identifiquei um fator chave que contribui para o desempenho excepcional dos modelos de árvore de decisão em nosso conjunto de dados. A variável 'avg_glucose_level' demonstra uma forte correlação com esse tipo de modelo. Com base nisso, podemos considerar o nível de glicose no sangue como um indicador significativo da probabilidade de ocorrência de AVC em um indivíduo.\n",
        "\n",
        "Além disso, várias outras informações revelaram-se relevantes para orientar profissionais de saúde sobre os cuidados necessários na detecção de AVC. Fatores como hipertensão, histórico de doenças cardíacas e índice de massa corporal do paciente demonstraram ter uma influência substancial nos resultados de nosso conjunto de dados. Esses insights são cruciais para garantir uma abordagem cuidadosa ao lidar com essa condição médica.\n",
        "\n",
        "Nossas análises revelaram resultados notáveis em termos de acurácia e recall, este último sendo de especial importância. Após uma minuciosa análise de nosso conjunto de dados e o devido tratamento dos dados, conduzimos testes com diversos modelos, incluindo a padronização e normalização dos dados para comparação. Destacamos uma relação particularmente forte entre nossos dados e modelos baseados em árvore de decisão, especialmente quando otimizados com a hiperparametrização do modelo para alcançar os melhores resultados."
      ],
      "metadata": {
        "id": "K3DTGvbnluua"
      }
    },
    {
      "cell_type": "code",
      "source": [],
      "metadata": {
        "id": "j9BU1GBGn5BJ"
      },
      "execution_count": 67,
      "outputs": []
    }
  ],
  "metadata": {
    "colab": {
      "provenance": [],
      "mount_file_id": "1O3WFbDj8AZB6DzlkZ3TGH_PGlB5uAZ4D",
      "authorship_tag": "ABX9TyOaVvMwbHqBWUsM0pDEl/JV",
      "include_colab_link": true
    },
    "kernelspec": {
      "display_name": "Python 3",
      "name": "python3"
    },
    "language_info": {
      "name": "python"
    }
  },
  "nbformat": 4,
  "nbformat_minor": 0
}